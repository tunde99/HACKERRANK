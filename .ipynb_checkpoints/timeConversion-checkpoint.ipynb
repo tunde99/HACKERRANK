{
 "cells": [
  {
   "cell_type": "markdown",
   "metadata": {},
   "source": [
    "## My solution"
   ]
  },
  {
   "cell_type": "code",
   "execution_count": 3,
   "metadata": {},
   "outputs": [
    {
     "data": {
      "text/plain": [
       "'12:45:54'"
      ]
     },
     "execution_count": 3,
     "metadata": {},
     "output_type": "execute_result"
    }
   ],
   "source": [
    "def timeConversion(s):\n",
    "    hh = s.split(':')[0]\n",
    "    mm = s.split(':')[1]\n",
    "    ss = s.split(':')[2] \n",
    "    \n",
    "    \n",
    "    #checking if the last two digits are AM or PM\n",
    "    if s[-2:] == 'PM':\n",
    "        hh1 = str(int(hh)+12)\n",
    "  \n",
    "    if s[-2:] == 'AM':\n",
    "        hh1= hh\n",
    "       \n",
    "    if hh == '12'  and ss[-2:] == 'AM':\n",
    "        hh1 = '00'\n",
    "        \n",
    "    if hh == '12' and ss[-2:] == 'PM':\n",
    "        hh1 = '12'\n",
    "      \n",
    "    \n",
    "    return hh1 +':'+ mm +':'+ ss[:-2]\n",
    "    \n",
    "timeConversion('12:45:54PM')"
   ]
  },
  {
   "cell_type": "markdown",
   "metadata": {},
   "source": [
    "## Alternative method"
   ]
  },
  {
   "cell_type": "code",
   "execution_count": 4,
   "metadata": {},
   "outputs": [
    {
     "data": {
      "text/plain": [
       "'12:45:54'"
      ]
     },
     "execution_count": 4,
     "metadata": {},
     "output_type": "execute_result"
    }
   ],
   "source": [
    "# Kola's method\n",
    "def timeConvert(time):\n",
    "    hh = time.split(':')[0]\n",
    "    if hh == '12' and time[-2:] == 'AM':\n",
    "        hh = '00'\n",
    "    elif hh != '12' and time[-2:] == 'PM':\n",
    "        hh = str(int(hh)+12)\n",
    "    return hh + time[2:-2]\n",
    "timeConvert('12:45:54PM')"
   ]
  }
 ],
 "metadata": {
  "kernelspec": {
   "display_name": "Python 3",
   "language": "python",
   "name": "python3"
  },
  "language_info": {
   "codemirror_mode": {
    "name": "ipython",
    "version": 3
   },
   "file_extension": ".py",
   "mimetype": "text/x-python",
   "name": "python",
   "nbconvert_exporter": "python",
   "pygments_lexer": "ipython3",
   "version": "3.7.3"
  }
 },
 "nbformat": 4,
 "nbformat_minor": 2
}
