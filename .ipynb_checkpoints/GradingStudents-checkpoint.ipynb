{
 "cells": [
  {
   "cell_type": "code",
   "execution_count": 2,
   "metadata": {},
   "outputs": [
    {
     "data": {
      "text/plain": [
       "[75, 67, 40, 33]"
      ]
     },
     "execution_count": 2,
     "metadata": {},
     "output_type": "execute_result"
    }
   ],
   "source": [
    "'''\n",
    "Complete the function gradingStudents in the editor below. It should return an integer array consisting of rounded grades.\n",
    "\n",
    "gradingStudents has the following parameter(s):\n",
    "\n",
    "grades: an array of integers representing grades before rounding\n",
    "'''\n",
    "def gradingStudents(grades):\n",
    "    \n",
    "    n = len(grades) # length of array of grades\n",
    "      \n",
    "    \n",
    "    for i in range(n):\n",
    "        r = grades[i] % 5               # grade mod 5\n",
    "        nm = grades[i] + (5-r)          # next multiple = grade plus 5 minus r\n",
    "        \n",
    "        # round up conditions\n",
    "        if (nm - grades[i]) < 3:        \n",
    "            final_grade = nm\n",
    "        \n",
    "        if (nm - grades[i]) >= 3:\n",
    "            final_grade = grades[i]\n",
    "    \n",
    "        if grades[i] < 38:\n",
    "            final_grade = grades[i]\n",
    "        \n",
    "        grades[i] = final_grade\n",
    "    return grades\n",
    "                \n",
    "gradingStudents([73, 67, 38, 33])"
   ]
  }
 ],
 "metadata": {
  "kernelspec": {
   "display_name": "Python 3",
   "language": "python",
   "name": "python3"
  },
  "language_info": {
   "codemirror_mode": {
    "name": "ipython",
    "version": 3
   },
   "file_extension": ".py",
   "mimetype": "text/x-python",
   "name": "python",
   "nbconvert_exporter": "python",
   "pygments_lexer": "ipython3",
   "version": "3.7.3"
  }
 },
 "nbformat": 4,
 "nbformat_minor": 2
}
