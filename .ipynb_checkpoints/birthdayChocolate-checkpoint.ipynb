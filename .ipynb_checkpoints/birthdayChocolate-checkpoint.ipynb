{
 "cells": [
  {
   "cell_type": "code",
   "execution_count": 7,
   "metadata": {},
   "outputs": [
    {
     "data": {
      "text/plain": [
       "0"
      ]
     },
     "execution_count": 7,
     "metadata": {},
     "output_type": "execute_result"
    }
   ],
   "source": [
    "'''\n",
    "s: an array of integers, the numbers on each of the squares of chocolate\n",
    "d: an integer, Ron's birth day\n",
    "m: an integer, Ron's birth month \n",
    "'''\n",
    "def birthdayChocolate(s, d, m):\n",
    "   \n",
    "    if m == 1:\n",
    "        return 1\n",
    "    for i in range(len(s)):\n",
    "        \n",
    "        for j in range(len(s)):\n",
    "            count = 0\n",
    "            if s[i] + s[j] == d:\n",
    "                count += 1\n",
    "            return count\n",
    "#             if s[i] + s[j] != d: # if no two elements sum to birth day\n",
    "#                 return 0\n",
    "#birthdayChocolate([2,2,1,3,2], 4, 2)\n",
    "birthdayChocolate([1,2,1,3,2], 3, 2)\n",
    "#birthdayChocolate([4], 4, 1)"
   ]
  },
  {
   "cell_type": "code",
   "execution_count": null,
   "metadata": {},
   "outputs": [],
   "source": []
  }
 ],
 "metadata": {
  "kernelspec": {
   "display_name": "Python 3",
   "language": "python",
   "name": "python3"
  },
  "language_info": {
   "codemirror_mode": {
    "name": "ipython",
    "version": 3
   },
   "file_extension": ".py",
   "mimetype": "text/x-python",
   "name": "python",
   "nbconvert_exporter": "python",
   "pygments_lexer": "ipython3",
   "version": "3.7.3"
  }
 },
 "nbformat": 4,
 "nbformat_minor": 2
}
