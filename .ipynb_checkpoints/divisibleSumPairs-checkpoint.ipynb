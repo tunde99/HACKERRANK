{
 "cells": [
  {
   "cell_type": "code",
   "execution_count": 15,
   "metadata": {},
   "outputs": [
    {
     "name": "stdout",
     "output_type": "stream",
     "text": [
      "Pairs: [[1, 4], [2, 3], [4, 6]]\n"
     ]
    },
    {
     "data": {
      "text/plain": [
       "3"
      ]
     },
     "execution_count": 15,
     "metadata": {},
     "output_type": "execute_result"
    }
   ],
   "source": [
    "'''\n",
    "This code takes an array as input and prints the number of (i,j) pairs:\n",
    "(1) i<j (2) ar[i] + ar[j] should be divisble by k, where k is a given positive number\n",
    "\n",
    "Unlocked test case:\n",
    "\n",
    "ar = [43, 95, 51, 55, 40, 86, 65, 81, 51, 20, 47, 50, 65, 53, 23, 78, 75, 75, 47, 73, 25, 27, 14, 8, 26, 58, 95, 28, 3, 23, 48, 69, 26, 3, 73, 52, 34, 7, 40, 33, 56, 98, 71, 29, 70, 71, 28, 12, 18, 49, 19, 25, 2, 18, 15, 41, 51, 42, 46, 19, 98, 56, 54, 98, 72, 25, 16, 49, 34, 99, 48, 93, 64, 44, 50, 91, 44, 17, 63, 27, 3, 65, 75, 19, 68, 30, 43, 37, 72, 54, 82, 92, 37, 52, 72, 62, 3, 88, 82, 71]\n",
    "'''\n",
    "\n",
    "def divisibleSumPairs(n, k, ar): \n",
    "    pairs = []\n",
    "    count = 0\n",
    "    for i in range(len(ar)):\n",
    "        for j in range(len(ar)):\n",
    "            if ar == [] or ar[i] < 1 or ar[i] > 100 or k < 1 or k > 100:\n",
    "                break\n",
    "            if i < j and ((ar[i] + ar[j]) % k) == 0:\n",
    "                pairs.append([ar[i], ar[j]])\n",
    "                count += 1\n",
    "    print('Pairs:', pairs)            \n",
    "    return count\n",
    "divisibleSumPairs(6, 5, [1, 2, 3, 4, 5, 6])\n",
    "#divisibleSumPairs(6, 3, [1, 3, 2, 6, 1, 2])\n",
    "#divisibleSumPairs(100, 22, [43, 95, 51, 55, 40, 86, 65, 81, 51, 20, 47, 50, 65, 53, 23, 78, 75, 75, 47, 73, 25, 27, 14, 8, 26, 58, 95, 28, 3, 23, 48, 69, 26, 3, 73, 52, 34, 7, 40, 33, 56, 98, 71, 29, 70, 71, 28, 12, 18, 49, 19, 25, 2, 18, 15, 41, 51, 42, 46, 19, 98, 56, 54, 98, 72, 25, 16, 49, 34, 99, 48, 93, 64, 44, 50, 91, 44, 17, 63, 27, 3, 65, 75, 19, 68, 30, 43, 37, 72, 54, 82, 92, 37, 52, 72, 62, 3, 88, 82, 71])"
   ]
  }
 ],
 "metadata": {
  "kernelspec": {
   "display_name": "Python 3",
   "language": "python",
   "name": "python3"
  },
  "language_info": {
   "codemirror_mode": {
    "name": "ipython",
    "version": 3
   },
   "file_extension": ".py",
   "mimetype": "text/x-python",
   "name": "python",
   "nbconvert_exporter": "python",
   "pygments_lexer": "ipython3",
   "version": "3.7.3"
  }
 },
 "nbformat": 4,
 "nbformat_minor": 2
}
