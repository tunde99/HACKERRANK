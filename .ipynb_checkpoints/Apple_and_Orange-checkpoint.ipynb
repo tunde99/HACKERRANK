{
 "cells": [
  {
   "cell_type": "code",
   "execution_count": 43,
   "metadata": {
    "scrolled": true
   },
   "outputs": [
    {
     "name": "stdout",
     "output_type": "stream",
     "text": [
      "1\n",
      "1\n"
     ]
    }
   ],
   "source": [
    "'''\n",
    "Function Description\n",
    "\n",
    "Complete the countApplesAndOranges function in the editor below. It should print the number of apples and oranges that land on Sam's house, each on a separate line.\n",
    "\n",
    "countApplesAndOranges has the following parameter(s):\n",
    "\n",
    "s: integer, starting point of Sam's house location.\n",
    "t: integer, ending location of Sam's house location.\n",
    "a: integer, location of the Apple tree.\n",
    "b: integer, location of the Orange tree.\n",
    "apples: integer array, distances at which each apple falls from the tree.\n",
    "oranges: integer array, distances at which each orange falls from the tree.\n",
    "\n",
    "Output Format\n",
    "\n",
    "Print two integers on two different lines:\n",
    "\n",
    "The first integer: the number of apples that fall on Sam's house.\n",
    "The second integer: the number of oranges that fall on Sam's house.\n",
    "'''\n",
    "def countApplesAndOranges(s, t, a, b, apples, oranges):\n",
    "    apple_count = 0\n",
    "    orange_count = 0\n",
    "    apple_dist = [ ]\n",
    "    orange_dist = [ ]\n",
    "\n",
    "    for i in range(len(apples)):\n",
    "        applesDist = apples[i] + a\n",
    "        apple_dist.append(applesDist)\n",
    "        if (apple_dist[i] >= s) and (apple_dist[i] <= t):\n",
    "            apple_count += 1\n",
    "       \n",
    "\n",
    "    for j in range(len(oranges)):\n",
    "        orangeDist = oranges[j] + b\n",
    "        orange_dist.append(orangeDist)\n",
    "        if (orange_dist[j] >= s) and (orange_dist[j] <= t):\n",
    "            orange_count += 1\n",
    "\n",
    "    print(apple_count)\n",
    "    print(orange_count)\n",
    "    \n",
    "countApplesAndOranges(7, 11, 5, 15, [-2,2,1], [5,-6])"
   ]
  },
  {
   "cell_type": "code",
   "execution_count": null,
   "metadata": {},
   "outputs": [],
   "source": []
  }
 ],
 "metadata": {
  "kernelspec": {
   "display_name": "Python 3",
   "language": "python",
   "name": "python3"
  },
  "language_info": {
   "codemirror_mode": {
    "name": "ipython",
    "version": 3
   },
   "file_extension": ".py",
   "mimetype": "text/x-python",
   "name": "python",
   "nbconvert_exporter": "python",
   "pygments_lexer": "ipython3",
   "version": "3.7.3"
  }
 },
 "nbformat": 4,
 "nbformat_minor": 2
}
