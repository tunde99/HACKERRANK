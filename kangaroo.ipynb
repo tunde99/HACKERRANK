{
 "cells": [
  {
   "cell_type": "code",
   "execution_count": 313,
   "metadata": {},
   "outputs": [],
   "source": [
    "'''\n",
    "Function Description\n",
    "\n",
    "Complete the function kangaroo. It should return YES if they reach the same position at the same time, or NO if they don't.\n",
    "\n",
    "kangaroo has the following parameter(s):\n",
    "\n",
    "x1, v1: integers, starting position and jump distance for kangaroo 1\n",
    "x2, v2: integers, starting position and jump distance for kangaroo 2\n",
    "\n",
    "Output Format\n",
    "\n",
    "Print YES if they can land on the same location at the same time; otherwise, print NO.\n",
    "\n",
    "Note: The two kangaroos must land at the same location after making the same number of jumps.\n",
    "'''\n",
    "\n",
    "def kangaroo(x1, v1, x2, v2):\n",
    "    \n",
    "    try:\n",
    "        # computing jump factor, j\n",
    "        num = x2 - x1\n",
    "        den = v1 - v2\n",
    "        j = num/den\n",
    "        \n",
    "        # jump distance\n",
    "        a,b = v1 * j, v2 * j\n",
    "        \n",
    "        # check for negative / jump distance divisible by j / decimal  \n",
    "        if j < 0 or (a % j != 0 and b % j != 0) or num % den != 0:\n",
    "            return 'NO'\n",
    "        \n",
    "        # check for positive & equality / jump distance divisible by j\n",
    "        if j > 0 and (x1 + v1 * j == x2 + v2 * j) and (a % j == 0 and b % j  == 0):\n",
    "            return 'YES'\n",
    "        \n",
    "        # check for equal starting positions \n",
    "        if j == 0:\n",
    "            return 'YES'\n",
    "                          \n",
    "    except ZeroDivisionError:\n",
    "         return 'NO'\n",
    "\n",
    "    \n",
    "        \n"
   ]
  },
  {
   "cell_type": "code",
   "execution_count": 314,
   "metadata": {},
   "outputs": [
    {
     "data": {
      "text/plain": [
       "'NO'"
      ]
     },
     "execution_count": 314,
     "metadata": {},
     "output_type": "execute_result"
    }
   ],
   "source": [
    "kangaroo(0,2,5,3) #NO"
   ]
  },
  {
   "cell_type": "code",
   "execution_count": 315,
   "metadata": {},
   "outputs": [
    {
     "data": {
      "text/plain": [
       "'YES'"
      ]
     },
     "execution_count": 315,
     "metadata": {},
     "output_type": "execute_result"
    }
   ],
   "source": [
    "kangaroo(0,3,4,2) #YES"
   ]
  },
  {
   "cell_type": "code",
   "execution_count": 316,
   "metadata": {},
   "outputs": [
    {
     "data": {
      "text/plain": [
       "'NO'"
      ]
     },
     "execution_count": 316,
     "metadata": {},
     "output_type": "execute_result"
    }
   ],
   "source": [
    "kangaroo(21,6,47,3) #unlocked (NO)"
   ]
  },
  {
   "cell_type": "code",
   "execution_count": 317,
   "metadata": {},
   "outputs": [
    {
     "data": {
      "text/plain": [
       "'YES'"
      ]
     },
     "execution_count": 317,
     "metadata": {},
     "output_type": "execute_result"
    }
   ],
   "source": [
    "kangaroo(43,5,49,3) #unlocked (YES)\n"
   ]
  },
  {
   "cell_type": "code",
   "execution_count": 318,
   "metadata": {},
   "outputs": [
    {
     "data": {
      "text/plain": [
       "'NO'"
      ]
     },
     "execution_count": 318,
     "metadata": {},
     "output_type": "execute_result"
    }
   ],
   "source": [
    "kangaroo(28,8,96,2) #unlocked (NO)"
   ]
  },
  {
   "cell_type": "code",
   "execution_count": 319,
   "metadata": {},
   "outputs": [
    {
     "data": {
      "text/plain": [
       "'NO'"
      ]
     },
     "execution_count": 319,
     "metadata": {},
     "output_type": "execute_result"
    }
   ],
   "source": [
    "kangaroo(43, 2, 70, 2) #unlocked (NO)"
   ]
  }
 ],
 "metadata": {
  "kernelspec": {
   "display_name": "Python 3",
   "language": "python",
   "name": "python3"
  },
  "language_info": {
   "codemirror_mode": {
    "name": "ipython",
    "version": 3
   },
   "file_extension": ".py",
   "mimetype": "text/x-python",
   "name": "python",
   "nbconvert_exporter": "python",
   "pygments_lexer": "ipython3",
   "version": "3.7.3"
  }
 },
 "nbformat": 4,
 "nbformat_minor": 2
}
