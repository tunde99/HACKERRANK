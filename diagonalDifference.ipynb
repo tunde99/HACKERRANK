{
 "cells": [
  {
   "cell_type": "code",
   "execution_count": 1,
   "metadata": {},
   "outputs": [],
   "source": [
    "# computing diagonal difference of an array\n",
    "def diagonalDifference(arr):\n",
    "    # Write your code here \n",
    "    left = 0\n",
    "    right = 0\n",
    "    \n",
    "    for i in range(len(arr)):\n",
    "        for j in range(len(arr)):\n",
    "           \n",
    "            if i == j:\n",
    "                left+=arr[i][j]\n",
    "            if i + j == len(arr)-1:\n",
    "                right += arr[i][j]\n",
    "                \n",
    "    return abs(left - right)"
   ]
  },
  {
   "cell_type": "code",
   "execution_count": 3,
   "metadata": {},
   "outputs": [],
   "source": [
    "arr = ([11,2,4], \n",
    "[4,5,6], \n",
    "[10,8,-12])"
   ]
  },
  {
   "cell_type": "code",
   "execution_count": 4,
   "metadata": {},
   "outputs": [
    {
     "data": {
      "text/plain": [
       "15"
      ]
     },
     "execution_count": 4,
     "metadata": {},
     "output_type": "execute_result"
    }
   ],
   "source": [
    "diagonalDifference(arr)"
   ]
  }
 ],
 "metadata": {
  "kernelspec": {
   "display_name": "Python 3",
   "language": "python",
   "name": "python3"
  },
  "language_info": {
   "codemirror_mode": {
    "name": "ipython",
    "version": 3
   },
   "file_extension": ".py",
   "mimetype": "text/x-python",
   "name": "python",
   "nbconvert_exporter": "python",
   "pygments_lexer": "ipython3",
   "version": "3.7.3"
  }
 },
 "nbformat": 4,
 "nbformat_minor": 2
}
