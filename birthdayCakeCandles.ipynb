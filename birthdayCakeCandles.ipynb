{
 "cells": [
  {
   "cell_type": "code",
   "execution_count": 92,
   "metadata": {},
   "outputs": [
    {
     "data": {
      "text/plain": [
       "3"
      ]
     },
     "execution_count": 92,
     "metadata": {},
     "output_type": "execute_result"
    }
   ],
   "source": [
    "'''\n",
    "You are in charge of the cake for your niece's birthday and have decided \n",
    "the cake will have one candle for each year of her total age. \n",
    "When she blows out the candles, she’ll only be able to blow out the tallest ones. \n",
    "Your task is to find out how many candles she can successfully blow out.\n",
    "'''\n",
    "\n",
    "def birthdayCakeCandles(ar):\n",
    "    #sort array to position the maximum element(s) at the end of the array\n",
    "    arr = sorted(ar)\n",
    "    \n",
    "    n=len(arr)\n",
    "    candle = 0 #initialise number of candles\n",
    "    for i in range(n): # go through each elements of the array\n",
    "        if arr[i] == arr[n-1]: # check if element is equal to last element\n",
    "            candle += 1\n",
    "        if arr[i]>arr[n-1]: # check if element is greater than last element\n",
    "            candle = 1\n",
    "    return candle\n",
    "candleCake([4,3,1,4,5,8,2,8, 3,8])"
   ]
  }
 ],
 "metadata": {
  "kernelspec": {
   "display_name": "Python 3",
   "language": "python",
   "name": "python3"
  },
  "language_info": {
   "codemirror_mode": {
    "name": "ipython",
    "version": 3
   },
   "file_extension": ".py",
   "mimetype": "text/x-python",
   "name": "python",
   "nbconvert_exporter": "python",
   "pygments_lexer": "ipython3",
   "version": "3.7.3"
  }
 },
 "nbformat": 4,
 "nbformat_minor": 2
}
