{
 "cells": [
  {
   "cell_type": "markdown",
   "metadata": {},
   "source": [
    "# Section 7 \n",
    "## Strings: Methods"
   ]
  },
  {
   "cell_type": "code",
   "execution_count": 1,
   "metadata": {},
   "outputs": [],
   "source": [
    "browser = \"Google Chrome\""
   ]
  },
  {
   "cell_type": "code",
   "execution_count": 2,
   "metadata": {},
   "outputs": [
    {
     "name": "stdout",
     "output_type": "stream",
     "text": [
      "7\n",
      "7\n",
      "-1\n",
      "7\n"
     ]
    }
   ],
   "source": [
    "# find()\n",
    "print(browser.find(\"C\"))\n",
    "print(browser.find(\"Ch\"))\n",
    "print(browser.find(\"a\"))\n",
    "print(browser.find(\"Chr\"))"
   ]
  },
  {
   "cell_type": "code",
   "execution_count": 3,
   "metadata": {
    "scrolled": true
   },
   "outputs": [
    {
     "ename": "ValueError",
     "evalue": "substring not found",
     "output_type": "error",
     "traceback": [
      "\u001b[0;31m---------------------------------------------------------------------------\u001b[0m",
      "\u001b[0;31mValueError\u001b[0m                                Traceback (most recent call last)",
      "\u001b[0;32m<ipython-input-3-ae995a3e3f4f>\u001b[0m in \u001b[0;36m<module>\u001b[0;34m()\u001b[0m\n\u001b[0;32m----> 1\u001b[0;31m \u001b[0mprint\u001b[0m\u001b[0;34m(\u001b[0m\u001b[0mbrowser\u001b[0m\u001b[0;34m.\u001b[0m\u001b[0mindex\u001b[0m\u001b[0;34m(\u001b[0m\u001b[0;34m\"Z\"\u001b[0m\u001b[0;34m)\u001b[0m\u001b[0;34m)\u001b[0m\u001b[0;34m\u001b[0m\u001b[0;34m\u001b[0m\u001b[0m\n\u001b[0m",
      "\u001b[0;31mValueError\u001b[0m: substring not found"
     ]
    }
   ],
   "source": [
    "print(browser.index(\"Z\"))"
   ]
  },
  {
   "cell_type": "code",
   "execution_count": null,
   "metadata": {},
   "outputs": [],
   "source": [
    "print(\"G\" in browser)"
   ]
  },
  {
   "cell_type": "code",
   "execution_count": null,
   "metadata": {},
   "outputs": [],
   "source": [
    "word = 'geeks for geeks'"
   ]
  },
  {
   "cell_type": "code",
   "execution_count": null,
   "metadata": {},
   "outputs": [],
   "source": [
    "print(word.rfind(\"g\", 2, 16))"
   ]
  },
  {
   "cell_type": "code",
   "execution_count": null,
   "metadata": {},
   "outputs": [],
   "source": [
    "# rfind()\n",
    "course = \"Programming is interesting\"\n",
    "\n",
    "print(course.rfind(\"i\"))\n",
    "\n",
    "print(course.rfind(\"i\", 2, 12))\n",
    "\n",
    "print(course.rfind(\"o\", 4))"
   ]
  },
  {
   "cell_type": "code",
   "execution_count": 4,
   "metadata": {},
   "outputs": [
    {
     "name": "stdout",
     "output_type": "stream",
     "text": [
      "True\n"
     ]
    }
   ],
   "source": [
    "print(browser.startswith(\"G\"))"
   ]
  },
  {
   "cell_type": "code",
   "execution_count": 7,
   "metadata": {},
   "outputs": [
    {
     "name": "stdout",
     "output_type": "stream",
     "text": [
      "2\n"
     ]
    }
   ],
   "source": [
    "# count()\n",
    "browser = \"queueing\"\n",
    "print(browser.count(\"e\"))"
   ]
  },
  {
   "cell_type": "code",
   "execution_count": 22,
   "metadata": {},
   "outputs": [],
   "source": [
    "# Define a vowel_count function that accepts a string argument.\n",
    "# The function should return the count of vowels in the string.\n",
    "# The 5 vowels are \"a\", \"e\", \"i\", \"o\", and \"u\".\n",
    "# You can assume the string will be in all lowercase.\n",
    "# \n",
    "def vowel_count(str):\n",
    "    return str.count(\"a\") + str.count(\"e\") + str.count(\"i\") + str.count(\"o\") + str.count(\"u\")\n",
    "    \n",
    "# EXAMPLES:\n",
    "# vowel_count(\"estate\")        => 3\n",
    "# vowel_count(\"helicopter\")    => 4\n",
    "# vowel_count(\"ssh\")           => 0"
   ]
  },
  {
   "cell_type": "code",
   "execution_count": 23,
   "metadata": {},
   "outputs": [
    {
     "data": {
      "text/plain": [
       "3"
      ]
     },
     "execution_count": 23,
     "metadata": {},
     "output_type": "execute_result"
    }
   ],
   "source": [
    "vowel_count(\"estate\")"
   ]
  },
  {
   "cell_type": "code",
   "execution_count": 24,
   "metadata": {},
   "outputs": [
    {
     "data": {
      "text/plain": [
       "4"
      ]
     },
     "execution_count": 24,
     "metadata": {},
     "output_type": "execute_result"
    }
   ],
   "source": [
    "vowel_count(\"helicopter\")"
   ]
  },
  {
   "cell_type": "code",
   "execution_count": 28,
   "metadata": {},
   "outputs": [],
   "source": [
    "# Define a find_my_letter function that accepts two arguments: a string and a character\n",
    "# The function should return the first index position of the character in the string\n",
    "# The function should return a -1 if the character does not exist in the string\n",
    "\n",
    "def find_my_letter(a,b):\n",
    "    return a.find(b)\n",
    "    \n",
    "# EXAMPLES:\n",
    "# find_my_letter(\"dangerous\", \"a\")    => 1\n",
    "# find_my_letter(\"bazooka\", \"z\")      => 2\n",
    "# find_my_letter(\"lollipop\", \"z\")     => -1"
   ]
  },
  {
   "cell_type": "code",
   "execution_count": 29,
   "metadata": {},
   "outputs": [
    {
     "data": {
      "text/plain": [
       "1"
      ]
     },
     "execution_count": 29,
     "metadata": {},
     "output_type": "execute_result"
    }
   ],
   "source": [
    "find_my_letter(\"dangerous\", \"a\")"
   ]
  },
  {
   "cell_type": "code",
   "execution_count": 30,
   "metadata": {},
   "outputs": [
    {
     "data": {
      "text/plain": [
       "2"
      ]
     },
     "execution_count": 30,
     "metadata": {},
     "output_type": "execute_result"
    }
   ],
   "source": [
    "find_my_letter(\"bazooka\", \"z\") "
   ]
  },
  {
   "cell_type": "code",
   "execution_count": 32,
   "metadata": {},
   "outputs": [
    {
     "data": {
      "text/plain": [
       "-1"
      ]
     },
     "execution_count": 32,
     "metadata": {},
     "output_type": "execute_result"
    }
   ],
   "source": [
    "find_my_letter(\"lollipop\", \"z\")"
   ]
  },
  {
   "cell_type": "markdown",
   "metadata": {},
   "source": [
    "#### Palindrome"
   ]
  },
  {
   "cell_type": "code",
   "execution_count": 42,
   "metadata": {},
   "outputs": [],
   "source": [
    "word1 = \"madam\"\n",
    "word2 = \"helicopter\""
   ]
  },
  {
   "cell_type": "code",
   "execution_count": 44,
   "metadata": {},
   "outputs": [
    {
     "name": "stdout",
     "output_type": "stream",
     "text": [
      "True\n",
      "False\n"
     ]
    }
   ],
   "source": [
    "print(word1[::] == word1[::-1])\n",
    "print(word2[::] == word2[::-1])"
   ]
  },
  {
   "cell_type": "code",
   "execution_count": 45,
   "metadata": {},
   "outputs": [
    {
     "name": "stdout",
     "output_type": "stream",
     "text": [
      "madam\n",
      "retpocileh\n"
     ]
    }
   ],
   "source": [
    "print(word1[::-1])\n",
    "print(word2[::-1])"
   ]
  },
  {
   "cell_type": "code",
   "execution_count": 59,
   "metadata": {},
   "outputs": [
    {
     "name": "stdout",
     "output_type": "stream",
     "text": [
      "Helicopter\n",
      "HELICOPTER\n",
      "Programming Is Interesting\n",
      "mADAm\n",
      "Programming Is Interesting\n"
     ]
    }
   ],
   "source": [
    "word3 = \"MadaM\"\n",
    "word4 = \"helicopter\"\n",
    "word5 = \"programming is interesting\"\n",
    "word6 = \"PROGRAMMING IS INTERESTING\"\n",
    "print(word4.capitalize()) # Capitalise only first letter of the sentence (sentence case)\n",
    "print(word4.upper()) # All letters in capital\n",
    "print(word5.title()) # First letter of every space-separated word\n",
    "print(word3.swapcase()) # changes small letters to capital and vice versa\n",
    "print(word6.lower().title()) # method chain: converts first to lower, then title case\n"
   ]
  },
  {
   "cell_type": "markdown",
   "metadata": {},
   "source": [
    "### More strings methods"
   ]
  },
  {
   "cell_type": "code",
   "execution_count": 69,
   "metadata": {},
   "outputs": [
    {
     "name": "stdout",
     "output_type": "stream",
     "text": [
      "13\n",
      "tuna\n",
      "tuna\n"
     ]
    }
   ],
   "source": [
    "# lstrip() removes left spaces, rstrip() removes right spaces, strp() removes all spaces\n",
    "empty_space = \"    tuna     \"\n",
    "print(len(empty_space))\n",
    "print((empty_space.lstrip().rstrip())) # removes left and right space\n",
    "print(empty_space.strip()) # same as previous method"
   ]
  },
  {
   "cell_type": "code",
   "execution_count": 70,
   "metadata": {},
   "outputs": [
    {
     "name": "stdout",
     "output_type": "stream",
     "text": [
      "555-666-777-888\n"
     ]
    }
   ],
   "source": [
    "# find and replace method\n",
    "phone_num = \"555 666 777 888\"\n",
    "print(phone_num.replace(\" \", \"-\"))"
   ]
  },
  {
   "cell_type": "code",
   "execution_count": 73,
   "metadata": {},
   "outputs": [],
   "source": [
    "# Define a fancy_cleanup function that accepts a single string argument\n",
    "# The function should clean up the whitespace on both sides of the\n",
    "# argument. It should also replace every occurrence of the letter \"g\" with the\n",
    "# letter \"z\" and every occurence of a space with an exclamation point (!).\n",
    "#\n",
    "def fancy_cleanup(str):\n",
    "    return str.strip().replace(\"g\", \"z\").replace(\" \", \"!\")\n",
    "    \n",
    "# fancy_cleanup(\"       geronimo crikey  \")   => \"zeronimo!crikey\"\n",
    "# fancy_cleanup(\"       nonsense  \")          => \"nonsense\"\n",
    "# fancy_cleanup(\"grade\")                      => \"zrade\""
   ]
  },
  {
   "cell_type": "code",
   "execution_count": 77,
   "metadata": {},
   "outputs": [
    {
     "data": {
      "text/plain": [
       "'zeronimo!crikey'"
      ]
     },
     "execution_count": 77,
     "metadata": {},
     "output_type": "execute_result"
    }
   ],
   "source": [
    "fancy_cleanup(\"       geronimo crikey  \")"
   ]
  },
  {
   "cell_type": "code",
   "execution_count": 78,
   "metadata": {},
   "outputs": [
    {
     "data": {
      "text/plain": [
       "'nonsense'"
      ]
     },
     "execution_count": 78,
     "metadata": {},
     "output_type": "execute_result"
    }
   ],
   "source": [
    "fancy_cleanup(\"       nonsense  \") "
   ]
  },
  {
   "cell_type": "code",
   "execution_count": 80,
   "metadata": {},
   "outputs": [
    {
     "data": {
      "text/plain": [
       "'zrade'"
      ]
     },
     "execution_count": 80,
     "metadata": {},
     "output_type": "execute_result"
    }
   ],
   "source": [
    "fancy_cleanup(\"grade\")"
   ]
  },
  {
   "cell_type": "markdown",
   "metadata": {},
   "source": [
    "# Control flow"
   ]
  },
  {
   "cell_type": "code",
   "execution_count": 1,
   "metadata": {},
   "outputs": [],
   "source": [
    "# Define a even_or_odd function that accepts a single integer.\n",
    "# If the integer is even, the function should return the string “even”.\n",
    "# If the integer is odd, the function should return the string “odd”.\n",
    "\n",
    "# Method 1\n",
    "def even_or_odd(num):\n",
    "    if num % 2 == 0:\n",
    "        return \"even\"\n",
    "    return \"odd\"\n",
    "\n",
    "# # Method 2\n",
    "# def even_or_odd(num):\n",
    "#     return \"even\" if num % 2 == 0 else \"odd\"\n",
    "    \n",
    "# even_or_odd(2)    => \"even\"\n",
    "# even_or_odd(0)    => \"even\"\n",
    "# even_or_odd(13)   => \"odd\"\n",
    "# even_or_odd(9)    => \"odd\""
   ]
  },
  {
   "cell_type": "code",
   "execution_count": 2,
   "metadata": {},
   "outputs": [
    {
     "data": {
      "text/plain": [
       "'even'"
      ]
     },
     "execution_count": 2,
     "metadata": {},
     "output_type": "execute_result"
    }
   ],
   "source": [
    "even_or_odd(2)    #=> \"even\""
   ]
  },
  {
   "cell_type": "code",
   "execution_count": 4,
   "metadata": {},
   "outputs": [
    {
     "data": {
      "text/plain": [
       "'even'"
      ]
     },
     "execution_count": 4,
     "metadata": {},
     "output_type": "execute_result"
    }
   ],
   "source": [
    "even_or_odd(0)    #=> \"even\""
   ]
  },
  {
   "cell_type": "code",
   "execution_count": 5,
   "metadata": {},
   "outputs": [
    {
     "data": {
      "text/plain": [
       "'odd'"
      ]
     },
     "execution_count": 5,
     "metadata": {},
     "output_type": "execute_result"
    }
   ],
   "source": [
    "even_or_odd(13)   #=> \"odd\""
   ]
  },
  {
   "cell_type": "code",
   "execution_count": 6,
   "metadata": {},
   "outputs": [
    {
     "data": {
      "text/plain": [
       "'odd'"
      ]
     },
     "execution_count": 6,
     "metadata": {},
     "output_type": "execute_result"
    }
   ],
   "source": [
    "even_or_odd(9)   # => \"odd\""
   ]
  },
  {
   "cell_type": "code",
   "execution_count": 12,
   "metadata": {},
   "outputs": [],
   "source": [
    "# prime number\n",
    "def check_prime(num):\n",
    "    prime = True # assume the test number is prime\n",
    "    for i in range(2, num): # this checks all numbers between 2 and the number exclusively\n",
    "        if (num % i) == 0: # if any of these numbers are divisible by 2, \n",
    "            prime = False # then the test number is not prime\n",
    "        return prime"
   ]
  },
  {
   "cell_type": "code",
   "execution_count": 17,
   "metadata": {},
   "outputs": [
    {
     "data": {
      "text/plain": [
       "False"
      ]
     },
     "execution_count": 17,
     "metadata": {},
     "output_type": "execute_result"
    }
   ],
   "source": [
    "check_prime(8)"
   ]
  },
  {
   "cell_type": "code",
   "execution_count": 134,
   "metadata": {},
   "outputs": [],
   "source": [
    "'''\n",
    "Note:\n",
    "    if (0): => Falsy\n",
    "    if (any digit): => Truthy\n",
    "    if (empty string): => Falsy \n",
    "    if (any string): => Truthy\n",
    "'''\n",
    "# Define a truthy_or_falsy function that accepts a single argument.\n",
    "# The function should return a string that reads \"The value _____ is ______\" \n",
    "# where the first space is the argument and the second space \n",
    "# is either 'truthy' or 'falsy'. See the sample invocations below.\n",
    "# \n",
    "def truthy_or_falsy(str1):\n",
    "    if bool(str1):\n",
    "        return f\"The value {str1} is truthy\"\n",
    "    return f\"The value {str1} is falsy\"  \n",
    "    \n",
    "       \n",
    "# truthy_or_falsy(0)        => \"The value 0 is falsy\"\n",
    "# truthy_or_falsy(5)        => \"The value 5 is truthy\"\n",
    "# truthy_or_falsy(\"Hello\")  => \"The value Hello is truthy\"\n",
    "# truthy_or_falsy(\"\")       => \"The value  is falsy\"\n"
   ]
  },
  {
   "cell_type": "code",
   "execution_count": 135,
   "metadata": {},
   "outputs": [
    {
     "data": {
      "text/plain": [
       "'The value 0 is falsy'"
      ]
     },
     "execution_count": 135,
     "metadata": {},
     "output_type": "execute_result"
    }
   ],
   "source": [
    "truthy_or_falsy(0)"
   ]
  },
  {
   "cell_type": "code",
   "execution_count": 136,
   "metadata": {},
   "outputs": [
    {
     "data": {
      "text/plain": [
       "'The value 5 is truthy'"
      ]
     },
     "execution_count": 136,
     "metadata": {},
     "output_type": "execute_result"
    }
   ],
   "source": [
    "truthy_or_falsy(5)"
   ]
  },
  {
   "cell_type": "code",
   "execution_count": 137,
   "metadata": {},
   "outputs": [
    {
     "data": {
      "text/plain": [
       "'The value Hello is truthy'"
      ]
     },
     "execution_count": 137,
     "metadata": {},
     "output_type": "execute_result"
    }
   ],
   "source": [
    "truthy_or_falsy(\"Hello\")"
   ]
  },
  {
   "cell_type": "code",
   "execution_count": 138,
   "metadata": {},
   "outputs": [
    {
     "data": {
      "text/plain": [
       "'The value  is falsy'"
      ]
     },
     "execution_count": 138,
     "metadata": {},
     "output_type": "execute_result"
    }
   ],
   "source": [
    "truthy_or_falsy(\"\") "
   ]
  },
  {
   "cell_type": "code",
   "execution_count": 143,
   "metadata": {},
   "outputs": [],
   "source": [
    "# Declare a negative_energy function that accepts a numeric argument and returns its absolute value. \n",
    "# The absolute value is the number's distance from zero.\n",
    "# \n",
    "def negative_energy(input_val):\n",
    "    if input_val >= 0:\n",
    "        return input_val\n",
    "    return -1 * input_val\n",
    "# negative_energy(5)    => 5\n",
    "# negative_energy(10)   => 10\n",
    "# negative_energy(-5)   => 5\n",
    "# negative_energy(-8)   => 8\n",
    "# negative_energy(0)    => 0"
   ]
  },
  {
   "cell_type": "code",
   "execution_count": 144,
   "metadata": {},
   "outputs": [
    {
     "name": "stdout",
     "output_type": "stream",
     "text": [
      "5\n",
      "10\n",
      "5\n",
      "8\n",
      "0\n"
     ]
    }
   ],
   "source": [
    "print(negative_energy(5))\n",
    "print(negative_energy(10))\n",
    "print(negative_energy(-5))\n",
    "print(negative_energy(-8))\n",
    "print(negative_energy(0))"
   ]
  },
  {
   "cell_type": "code",
   "execution_count": 150,
   "metadata": {},
   "outputs": [
    {
     "name": "stdout",
     "output_type": "stream",
     "text": [
      "Greater\n"
     ]
    }
   ],
   "source": [
    "# Check\n",
    "a, b = 5, 3\n",
    "\n",
    "check = \"Greater\" if a > b else \"Lesser\"\n",
    "print(check)"
   ]
  },
  {
   "cell_type": "code",
   "execution_count": null,
   "metadata": {},
   "outputs": [],
   "source": [
    "# Define a function called \"factorial\" that accepts a single number as input\n",
    "#\n",
    "# A factorial represents the product of all numbers up to, and including, that number. \n",
    "# For example, 5 factorial is 5 * 4 * 3 * 2 * 1 = 120\n",
    "#\n",
    "# Return the factorial calculation from your function. You should NOT use any kind of loops. \n",
    "# Instead, utilize recursion. Your function MUST call itself.\n",
    "# See sample inputs and return values below\n",
    "#\n",
    "# factorial(1) => 1\n",
    "# factorial(2) => 2\n",
    "# factorial(3) => 6\n",
    "# factorial(4) => 24\n",
    "# factorial(5) => 120"
   ]
  },
  {
   "cell_type": "code",
   "execution_count": 168,
   "metadata": {},
   "outputs": [],
   "source": [
    "# Method 1\n",
    "def factorial(num):\n",
    "    if num == 0 or num == 1:\n",
    "        return 1\n",
    "    return num * factorial(num-1)\n",
    "    "
   ]
  },
  {
   "cell_type": "code",
   "execution_count": 169,
   "metadata": {},
   "outputs": [
    {
     "name": "stdout",
     "output_type": "stream",
     "text": [
      "1\n",
      "2\n",
      "6\n",
      "24\n",
      "120\n"
     ]
    }
   ],
   "source": [
    "print(factorial(1))\n",
    "print(factorial(2))\n",
    "print(factorial(3))\n",
    "print(factorial(4))\n",
    "print(factorial(5))"
   ]
  },
  {
   "cell_type": "code",
   "execution_count": 170,
   "metadata": {},
   "outputs": [],
   "source": [
    "# Method 2\n",
    "def factorial_of_a_number(num):\n",
    "    return 1 if num == 0 or num == 1 else num * factorial_of_a_number(num - 1)"
   ]
  },
  {
   "cell_type": "code",
   "execution_count": 171,
   "metadata": {},
   "outputs": [
    {
     "name": "stdout",
     "output_type": "stream",
     "text": [
      "1\n",
      "2\n",
      "6\n",
      "24\n",
      "120\n"
     ]
    }
   ],
   "source": [
    "print(factorial(1))\n",
    "print(factorial(2))\n",
    "print(factorial(3))\n",
    "print(factorial(4))\n",
    "print(factorial(5))"
   ]
  },
  {
   "cell_type": "code",
   "execution_count": 172,
   "metadata": {},
   "outputs": [],
   "source": [
    "# Define a divisible_by_three_and_four function that accepts a number as its argument. \n",
    "# It should return True if the number is evenly divisible by both 3 and 4 . \n",
    "# It should return False otherwise.\n",
    "#\n",
    "def divisible_by_three_and_four(num):\n",
    "    return True if num % 3 == 0 and num % 4 == 0 else False\n",
    "# divisible_by_three_and_four(3)   => False\n",
    "# divisible_by_three_and_four(4)   => False\n",
    "# divisible_by_three_and_four(12)  => True\n",
    "# divisible_by_three_and_four(18)  => False\n",
    "# divisible_by_three_and_four(24)  => True"
   ]
  },
  {
   "cell_type": "code",
   "execution_count": 174,
   "metadata": {},
   "outputs": [
    {
     "name": "stdout",
     "output_type": "stream",
     "text": [
      "False\n",
      "False\n",
      "True\n",
      "False\n",
      "True\n"
     ]
    }
   ],
   "source": [
    "print(divisible_by_three_and_four(3))\n",
    "print(divisible_by_three_and_four(4))\n",
    "print(divisible_by_three_and_four(12))\n",
    "print(divisible_by_three_and_four(18))\n",
    "print(divisible_by_three_and_four(24))\n"
   ]
  },
  {
   "cell_type": "code",
   "execution_count": 175,
   "metadata": {},
   "outputs": [],
   "source": [
    "# Declare a string_theory function that accepts a string as an argument. \n",
    "# It should return True if the string has more than 3 characters \n",
    "# and starts with a capital “S”. It should return False otherwise.\n",
    "#\n",
    "def string_theory(input_str):\n",
    "    return True if len(input_str) > 3 and input_str.startswith(\"S\") else False\n",
    "# string_theory(\"Sansa\") => True\n",
    "# string_theory(\"Story\") => True\n",
    "# string_theory(\"See\") => False\n",
    "# string_theory(\"Fable\") => False"
   ]
  },
  {
   "cell_type": "code",
   "execution_count": 176,
   "metadata": {},
   "outputs": [
    {
     "name": "stdout",
     "output_type": "stream",
     "text": [
      "True\n",
      "True\n",
      "False\n",
      "False\n"
     ]
    }
   ],
   "source": [
    "print(string_theory(\"Sansa\"))\n",
    "print(string_theory(\"Story\"))\n",
    "print(string_theory(\"See\"))\n",
    "print(string_theory(\"Fable\"))"
   ]
  },
  {
   "cell_type": "code",
   "execution_count": 189,
   "metadata": {},
   "outputs": [],
   "source": [
    "# FizzBuzz\n",
    "'''\n",
    "FizzBuzz is a popular programming problem to test a developer's ability to think logically with code.\n",
    "\n",
    "The problem is simple but deceptive.\n",
    "\n",
    "Define a fizzbuzz function that accepts a single number as an argument. The function should print every number from 1 to that argument. \n",
    "\n",
    "There are a couple caveats.\n",
    "\n",
    "If the number is divisible by 3, print \"Fizz\" instead of the number.\n",
    "\n",
    "If the number is divisible by 5, print \"Buzz\" instead of the number.\n",
    "\n",
    "If the number is divisible by both 3 and 5, print \"FizzBuzz\" instead of the number.\n",
    "\n",
    "If the number is not divisible by either 3 or 5, just print the number.\n",
    "\n",
    "'''\n",
    "def fizzbuzz(num):\n",
    "    for i in range(1, num + 1):\n",
    "        if i % 3 == 0:\n",
    "            print(\"Fizz\")\n",
    "        elif i % 5 == 0:\n",
    "            print(\"Buzz\")\n",
    "        elif i % 3 == 0 and i % 5 == 0:\n",
    "            print(\"FizzBuzz\")\n",
    "        elif not i % 3 == 0 and i % 5 == 0:\n",
    "            print(i)\n",
    "        else:\n",
    "            print(i)\n",
    "        "
   ]
  },
  {
   "cell_type": "code",
   "execution_count": 190,
   "metadata": {},
   "outputs": [
    {
     "name": "stdout",
     "output_type": "stream",
     "text": [
      "1\n",
      "2\n",
      "Fizz\n",
      "4\n",
      "Buzz\n",
      "Fizz\n",
      "7\n",
      "8\n",
      "Fizz\n",
      "Buzz\n",
      "11\n",
      "Fizz\n",
      "13\n",
      "14\n",
      "Fizz\n",
      "16\n",
      "17\n",
      "Fizz\n",
      "19\n",
      "Buzz\n",
      "Fizz\n",
      "22\n",
      "23\n",
      "Fizz\n",
      "Buzz\n",
      "26\n",
      "Fizz\n",
      "28\n",
      "29\n",
      "Fizz\n"
     ]
    }
   ],
   "source": [
    "fizzbuzz(30)"
   ]
  },
  {
   "cell_type": "markdown",
   "metadata": {},
   "source": [
    "## List\n",
    "\n",
    "A list is a data structure that contains ordered sequence of object."
   ]
  },
  {
   "cell_type": "code",
   "execution_count": 191,
   "metadata": {},
   "outputs": [],
   "source": [
    "# Create an empty list and assign it to the variable \"empty\".\n",
    "\n",
    "empty = []\n",
    "\n",
    "\n",
    "# Create a list with a single Boolean — True — and assign it to the variable \"active\".\n",
    "\n",
    "active = [True]\n",
    "\n",
    "# Create a list with 5 integers of your choice and assign it to the variable \"favorite_numbers\".\n",
    "\n",
    "favorite_numbers = [1, 2, 3, 4, 5]\n",
    "\n",
    "# Create a list with 3 strings  — \"red\", \"green\", \"blue\" — and assign it to the variable \"colors\".\n",
    "\n",
    "colors = [\"red\", \"green\", \"blue\"]\n",
    "\n",
    "# Declare an is_long function that accepts a single list as an argument\n",
    "# It should return True if the list has more than 5 elements, and False otherwise\n",
    "\n",
    "def is_long(single_list):\n",
    "    return True if len(single_list) > 5 else False\n"
   ]
  },
  {
   "cell_type": "code",
   "execution_count": 192,
   "metadata": {},
   "outputs": [
    {
     "data": {
      "text/plain": [
       "False"
      ]
     },
     "execution_count": 192,
     "metadata": {},
     "output_type": "execute_result"
    }
   ],
   "source": [
    "is_long(favorite_numbers)"
   ]
  },
  {
   "cell_type": "code",
   "execution_count": 193,
   "metadata": {},
   "outputs": [
    {
     "data": {
      "text/plain": [
       "False"
      ]
     },
     "execution_count": 193,
     "metadata": {},
     "output_type": "execute_result"
    }
   ],
   "source": [
    "is_long(colors)"
   ]
  },
  {
   "cell_type": "code",
   "execution_count": 194,
   "metadata": {},
   "outputs": [],
   "source": [
    "# Define a first_and_last function that accepts a list of strings. \n",
    "# The function should return a concatenation of the first element and the last element. \n",
    "# Assume the list will always have 1 or more elements.\n",
    "#\n",
    "def first_and_last(str_list):\n",
    "    return str_list[0] + str_list[-1]\n",
    "# first_and_last([\"a\", \"b\", \"c\"])        => \"ac\"\n",
    "# first_and_last([\"bob\", \"tom\", \"rob\"])  => \"bobrob\"\n",
    "# first_and_last([\"a\"])                  => \"aa\""
   ]
  },
  {
   "cell_type": "code",
   "execution_count": 197,
   "metadata": {},
   "outputs": [
    {
     "name": "stdout",
     "output_type": "stream",
     "text": [
      "ac\n",
      "bobrob\n",
      "aa\n"
     ]
    }
   ],
   "source": [
    "print(first_and_last([\"a\", \"b\", \"c\"]))\n",
    "print(first_and_last([\"bob\", \"tom\", \"rob\"]))\n",
    "print(first_and_last([\"a\"]) )"
   ]
  },
  {
   "cell_type": "code",
   "execution_count": 219,
   "metadata": {},
   "outputs": [],
   "source": [
    "# Define a product_of_even_indices function that accepts a list of numbers. \n",
    "# The list will always have 6 total elements. \n",
    "# The function should return the product (multiplied total) of all numbers at an even index (0, 2, 4).\n",
    "#\n",
    "def product_of_even_indices(num_list):\n",
    "    prod = 1\n",
    "    for i in range(0, len(num_list), 2):\n",
    "        prod *= num_list[i]\n",
    "    return prod   \n",
    "    \n",
    "\n",
    "# product_of_even_indices([1, 2, 3, 4, 5, 6])    =>  15\n",
    "# product_of_even_indices([3, 4, 3, 5, 3, 6])    =>  27"
   ]
  },
  {
   "cell_type": "code",
   "execution_count": 221,
   "metadata": {},
   "outputs": [
    {
     "name": "stdout",
     "output_type": "stream",
     "text": [
      "15\n",
      "27\n"
     ]
    }
   ],
   "source": [
    "print(product_of_even_indices([1, 2, 3, 4, 5, 6]))\n",
    "print(product_of_even_indices([3, 4, 3, 5, 3, 6]))"
   ]
  },
  {
   "cell_type": "code",
   "execution_count": 227,
   "metadata": {},
   "outputs": [],
   "source": [
    "# Define a first_letter_of_last_string function that accepts a list of strings. \n",
    "# It should return one character — the first letter of the last string in the list. \n",
    "# Assume the list will always have at least one string.\n",
    "#\n",
    "def first_letter_of_last_string(list_str):\n",
    "    return list_str[-1][0]\n",
    "# first_letter_of_last_string([\"cat\", \"dog\", \"zebra\"]) => \"z\"\n",
    "# first_letter_of_last_string([\"nonsense\"]) => \"n\""
   ]
  },
  {
   "cell_type": "code",
   "execution_count": 228,
   "metadata": {},
   "outputs": [
    {
     "name": "stdout",
     "output_type": "stream",
     "text": [
      "z\n",
      "n\n"
     ]
    }
   ],
   "source": [
    "print(first_letter_of_last_string([\"cat\", \"dog\", \"zebra\"]))\n",
    "print(first_letter_of_last_string([\"nonsense\"]))"
   ]
  },
  {
   "cell_type": "code",
   "execution_count": 12,
   "metadata": {},
   "outputs": [],
   "source": [
    "# Define a split_in_two function that accepts a list and a number.\n",
    "# If the number is even, return the list elements from the third element to the end of the list.\n",
    "# If the number is odd, return the list elements from index 0 (inclusive) to 2 (exclusive)\n",
    "\n",
    "def split_in_two(list_item, num):\n",
    "        return list_item[2:] if num % 2 == 0 else list_item[:2]\n",
    "    \n",
    "        \n",
    "    \n",
    "    \n",
    "\n",
    "\n",
    "# EXAMPLE:\n",
    "values = [\"a\", \"b\", \"c\", \"d\", \"e\", \"f\"]\n",
    "# split_in_two(values, 3)     => [\"a\", \"b\"]\n",
    "# split_in_two(values, 4)     => [\"c\", \"d\", \"e\", \"f\"]\n",
    "# split_in_two(values, 1)     => [\"a\", \"b\"]\n",
    "# split_in_two(values, 10)    => [\"c\", \"d\", \"e\", \"f\"]"
   ]
  },
  {
   "cell_type": "code",
   "execution_count": 13,
   "metadata": {},
   "outputs": [
    {
     "data": {
      "text/plain": [
       "['a', 'b']"
      ]
     },
     "execution_count": 13,
     "metadata": {},
     "output_type": "execute_result"
    }
   ],
   "source": [
    "values = [\"a\", \"b\", \"c\", \"d\", \"e\", \"f\"]\n",
    "split_in_two(values, 3)"
   ]
  },
  {
   "cell_type": "code",
   "execution_count": 14,
   "metadata": {},
   "outputs": [
    {
     "data": {
      "text/plain": [
       "['c', 'd', 'e', 'f']"
      ]
     },
     "execution_count": 14,
     "metadata": {},
     "output_type": "execute_result"
    }
   ],
   "source": [
    "split_in_two(values, 4) "
   ]
  },
  {
   "cell_type": "code",
   "execution_count": 58,
   "metadata": {},
   "outputs": [],
   "source": [
    "# Declare a nested_extraction function that accepts a list of lists and an index position.\n",
    "#\n",
    "# The function should use the index as the basis of finding both the nested list \n",
    "# and the element from that list with the given index position\n",
    "def nested_extraction(nl, i):\n",
    "    #for i in range(len(nl)):\n",
    "    return nl[i][i]\n",
    "\n",
    "# You can assume the number of lists will always be equal to \n",
    "# the number of elements within each of them.\n",
    "#\n",
    "# nl = [[3, 4, 5], [7, 8, 9], [10, 11, 12]]\n",
    "# nested_extraction(nl, 0)  => 3\n",
    "# nested_extraction(nl, 1)  => 8\n",
    "# nested_extraction(nl, 2)  => 12"
   ]
  },
  {
   "cell_type": "code",
   "execution_count": 59,
   "metadata": {
    "scrolled": true
   },
   "outputs": [
    {
     "data": {
      "text/plain": [
       "3"
      ]
     },
     "execution_count": 59,
     "metadata": {},
     "output_type": "execute_result"
    }
   ],
   "source": [
    "nl = [[3, 4, 5], [7, 8, 9], [10, 11, 12]]\n",
    "nested_extraction(nl, 0)"
   ]
  },
  {
   "cell_type": "code",
   "execution_count": 64,
   "metadata": {},
   "outputs": [],
   "source": [
    "# Declare a beginning_and_end function that accepts a list of elements.\n",
    "#\n",
    "# It should return True if the first and last elements in the list are equal and False if they are unequal.\n",
    "def beginning_and_end(num_list):\n",
    "    while num_list != []:\n",
    "        return True if num_list[0] == num_list[-1] else False\n",
    "    \n",
    "# Assume the list will always have at least 1 element\n",
    "# beginning_and_end([1, 2, 3, 1])     => True\n",
    "# beginning_and_end([1, 2, 3, 4, 5])  => False\n",
    "# beginning_and_end([\"a\", \"b\", \"a\"])  => True\n",
    "# beginning_and_end([15])             => True"
   ]
  },
  {
   "cell_type": "code",
   "execution_count": 65,
   "metadata": {},
   "outputs": [
    {
     "data": {
      "text/plain": [
       "True"
      ]
     },
     "execution_count": 65,
     "metadata": {},
     "output_type": "execute_result"
    }
   ],
   "source": [
    "beginning_and_end([1, 2, 3, 1])"
   ]
  },
  {
   "cell_type": "code",
   "execution_count": 75,
   "metadata": {},
   "outputs": [],
   "source": [
    "# Declare a long_word_in_collection function that accepts a list and a string. \n",
    "# The function should return True if \n",
    "#   - the string exists in the list AND\n",
    "#   - the string has more than 4 characters.\n",
    "def long_word_in_collection(words, str):\n",
    "    return True if str in words and len(str) > 4 else False\n",
    "words = [\"cat\", \"dog\", \"rhino\"]\n",
    "# long_word_in_collection(words, \"rhino\")  => True\n",
    "# long_word_in_collection(words, \"cat\")    => False\n",
    "# long_word_in_collection(words, \"monkey\") => False"
   ]
  },
  {
   "cell_type": "code",
   "execution_count": 76,
   "metadata": {},
   "outputs": [
    {
     "data": {
      "text/plain": [
       "True"
      ]
     },
     "execution_count": 76,
     "metadata": {},
     "output_type": "execute_result"
    }
   ],
   "source": [
    "long_word_in_collection(words, \"rhino\")"
   ]
  },
  {
   "cell_type": "code",
   "execution_count": 78,
   "metadata": {},
   "outputs": [
    {
     "data": {
      "text/plain": [
       "False"
      ]
     },
     "execution_count": 78,
     "metadata": {},
     "output_type": "execute_result"
    }
   ],
   "source": [
    "long_word_in_collection(words, \"cat\") "
   ]
  },
  {
   "cell_type": "code",
   "execution_count": 77,
   "metadata": {},
   "outputs": [
    {
     "data": {
      "text/plain": [
       "False"
      ]
     },
     "execution_count": 77,
     "metadata": {},
     "output_type": "execute_result"
    }
   ],
   "source": [
    "long_word_in_collection(words, \"monkey\")"
   ]
  },
  {
   "cell_type": "code",
   "execution_count": null,
   "metadata": {},
   "outputs": [],
   "source": []
  },
  {
   "cell_type": "markdown",
   "metadata": {},
   "source": [
    "## Section 10\n",
    "### Lists: Iteration"
   ]
  },
  {
   "cell_type": "code",
   "execution_count": 70,
   "metadata": {},
   "outputs": [],
   "source": [
    "# Define a sum_of_lengths function that accepts a list of strings.\n",
    "# The function should return the sum of the string lengths.\n",
    "\n",
    "def sum_of_lengths(str_lst):  \n",
    "    total = 0\n",
    "    for str in range(len(str_lst)):        \n",
    "        total += len(str_lst[str]) \n",
    "    return total\n",
    "# EXAMPLES\n",
    "# sum_of_lengths([\"Hello\", \"Bob\"])                  => 8\n",
    "# sum_of_lengths([\"Nonsense\"])                      => 8\n",
    "# sum_of_lengths([\"Nonsense\", \"or\", \"confidence\"])  => 20"
   ]
  },
  {
   "cell_type": "code",
   "execution_count": 71,
   "metadata": {},
   "outputs": [
    {
     "data": {
      "text/plain": [
       "8"
      ]
     },
     "execution_count": 71,
     "metadata": {},
     "output_type": "execute_result"
    }
   ],
   "source": [
    "sum_of_lengths([\"Hello\", \"Bob\"])"
   ]
  },
  {
   "cell_type": "code",
   "execution_count": 81,
   "metadata": {},
   "outputs": [],
   "source": [
    "# Define a product function that accepts a list of numbers.\n",
    "# The function should return the product of the numbers.\n",
    "# The list will always have at least one value\n",
    "def product(numl):\n",
    "    prod = 1\n",
    "    for num in range(len(numl)):\n",
    "        prod *= numl[num]\n",
    "    return prod\n",
    "# EXAMPLES\n",
    "# product([1, 2, 3])     => 6\n",
    "# product([4, 5, 6, 7])  => 840\n",
    "# product([10])          => 10\n"
   ]
  },
  {
   "cell_type": "code",
   "execution_count": 82,
   "metadata": {},
   "outputs": [
    {
     "data": {
      "text/plain": [
       "6"
      ]
     },
     "execution_count": 82,
     "metadata": {},
     "output_type": "execute_result"
    }
   ],
   "source": [
    "product([1, 2, 3]) "
   ]
  },
  {
   "cell_type": "code",
   "execution_count": 3,
   "metadata": {},
   "outputs": [],
   "source": [
    "# Define a smallest_number function  that accepts a list of numbers.\n",
    "# It should return the smallest value in the list.\n",
    "def smallest_number(num_list):\n",
    "    smallest = num_list[0]\n",
    "    for num in range(len(num_list)):\n",
    "        if num_list[num] < smallest:\n",
    "            smallest = num_list[num]\n",
    "    return smallest\n",
    "# smallest_number([1, 2, 3])     => 1\n",
    "# smallest_number([3, 2, 1])     => 1\n",
    "# smallest_number([4, 5, 4])     => 4\n",
    "# smallest_number([-3, -2, -1])  => -3"
   ]
  },
  {
   "cell_type": "code",
   "execution_count": 4,
   "metadata": {},
   "outputs": [
    {
     "data": {
      "text/plain": [
       "1"
      ]
     },
     "execution_count": 4,
     "metadata": {},
     "output_type": "execute_result"
    }
   ],
   "source": [
    "smallest_number([1, 2, 3])"
   ]
  },
  {
   "cell_type": "code",
   "execution_count": 42,
   "metadata": {},
   "outputs": [
    {
     "data": {
      "text/plain": [
       "'abcfgh'"
      ]
     },
     "execution_count": 42,
     "metadata": {},
     "output_type": "execute_result"
    }
   ],
   "source": [
    "# Define a concatenate function that accepts a list of strings. \n",
    "#\n",
    "# The function should return a concatenated string which consists of\n",
    "# all list elements whose length is greater than 2 characters.\n",
    "def concatenate(str_list):\n",
    "    str = \"\"\n",
    "    for ele in range(len(str_list)):\n",
    "        if len(str_list[ele]) > 2:\n",
    "            str += str_list[ele]\n",
    "        \n",
    "    return str\n",
    "    \n",
    "#concatenate([\"abc\", \"def\", \"ghi\"])      => \"abcdefghi\"\n",
    "concatenate([\"abc\", \"de\", \"fgh\", \"ic\"]) # => \"abcfgh\"\n",
    "# concatenate([\"ab\", \"cd\", \"ef\", \"gh\"])   => \"\""
   ]
  },
  {
   "cell_type": "code",
   "execution_count": 41,
   "metadata": {},
   "outputs": [
    {
     "data": {
      "text/plain": [
       "12"
      ]
     },
     "execution_count": 41,
     "metadata": {},
     "output_type": "execute_result"
    }
   ],
   "source": [
    "# Define a super_sum function that accepts a list of strings. \n",
    "# The function should sum the index positions of the first occurence of the letter “s” in each word. \n",
    "#\n",
    "# Not every word is guaranteed to have an “s”.\n",
    "# Don’t use \"sum\" as a variable name as it’s a built-in keyword.\n",
    "def super_sum(str_list):\n",
    "    idx = 0\n",
    "    for str in range(len(str_list)):\n",
    "        idx += str_list[str].find(\"s\")\n",
    "    return idx \n",
    "    \n",
    "    \n",
    "# super_sum([])     #                            => 0\n",
    "# super_sum([\"mustache\"])  #                     => 2\n",
    "# super_sum([\"mustache\", \"greatest\"])  #         => 8\n",
    "# super_sum([\"mustache\", \"pessimist\"]) #         => 4\n",
    "super_sum([\"mustache\", \"greatest\", \"almost\"]) # => 12"
   ]
  },
  {
   "cell_type": "code",
   "execution_count": 123,
   "metadata": {},
   "outputs": [],
   "source": [
    "# Define an in_list function that accepts a list of strings and a separate string.\n",
    "# Return the index where the string exists in the list.\n",
    "# If the string does not exist, return -1.\n",
    "# Do NOT use the find or index methods.\n",
    "\n",
    "def in_list(str_list, word):\n",
    "    for idx, ele in enumerate(str_list): \n",
    "        if word == ele:\n",
    "            return idx\n",
    "    return -1\n",
    "        \n",
    "        \n",
    "        \n",
    "        \n",
    "# EXAMPLES\n",
    "# strings = [\"enchanted\", \"sparks fly\", \"long live\"]\n",
    "# in_list(strings, \"enchanted\")  ==> 0\n",
    "# in_list(strings, \"sparks fly\") ==> 1\n",
    "# in_list(strings, \"fifteen\")    ==> -1\n",
    "# in_list(strings, \"love story\") ==> -1"
   ]
  },
  {
   "cell_type": "code",
   "execution_count": 124,
   "metadata": {},
   "outputs": [
    {
     "name": "stdout",
     "output_type": "stream",
     "text": [
      "0\n",
      "1\n",
      "-1\n",
      "-1\n"
     ]
    }
   ],
   "source": [
    "strings = [\"enchanted\", \"sparks fly\", \"long live\"]\n",
    "print(in_list(strings, \"enchanted\")) # ==> 0\n",
    "print(in_list(strings, \"sparks fly\")) # ==> 1\n",
    "print(in_list(strings, \"fifteen\")) #   ==> -1\n",
    "print(in_list(strings, \"love story\")) # ==> -1"
   ]
  },
  {
   "cell_type": "code",
   "execution_count": 120,
   "metadata": {},
   "outputs": [],
   "source": [
    "# Define a sum_of_values_and_indices function that accepts a list of numbers. \n",
    "# It should return the sum of all of the elements along with their index values.\n",
    "def sum_of_values_and_indices(num_list):\n",
    "    total = 0\n",
    "    for idx, num in enumerate(num_list):\n",
    "        total += (idx + num)\n",
    "    return total\n",
    "    \n",
    "\n",
    "        \n",
    "# EXAMPLES\n",
    "# sum_of_values_and_indices([1, 2, 3])    => (1 + 0) + (2 + 1) + (3 + 2) => 9\n",
    "# sum_of_values_and_indices([0, 0, 0, 0]) => 6\n",
    "# sum_of_values_and_indices([])           => 0"
   ]
  },
  {
   "cell_type": "code",
   "execution_count": 121,
   "metadata": {},
   "outputs": [
    {
     "name": "stdout",
     "output_type": "stream",
     "text": [
      "9\n"
     ]
    }
   ],
   "source": [
    "print(sum_of_values_and_indices([1, 2, 3]))"
   ]
  },
  {
   "cell_type": "code",
   "execution_count": 154,
   "metadata": {},
   "outputs": [
    {
     "name": "stdout",
     "output_type": "stream",
     "text": [
      "6\n"
     ]
    }
   ],
   "source": [
    "print(sum_of_values_and_indices([0, 0, 0, 0]))"
   ]
  },
  {
   "cell_type": "code",
   "execution_count": 187,
   "metadata": {},
   "outputs": [],
   "source": [
    "# Declare a length_match function that accepts a list of strings and an integer.\n",
    "# It should return a count of the number of strings whose length is equal to the number.\n",
    "def length_match(strings, number):\n",
    "    total = 0\n",
    "    \n",
    "    for idx, animal in enumerate(strings):\n",
    "        if len(animal) != number:\n",
    "            continue\n",
    "        total += 1            \n",
    "    return total\n",
    "            \n",
    "    \n",
    "# EXAMPLES \n",
    "# length_match([\"cat\", \"dog\", \"kangaroo\", \"mouse\"], 3))  => 2\n",
    "# length_match([\"cat\", \"dog\", \"kangaroo\", \"mouse\"], 5))  => 1\n",
    "# length_match([\"cat\", \"dog\", \"kangaroo\", \"mouse\"], 4))  => 0\n",
    "# length_match([], 5))     "
   ]
  },
  {
   "cell_type": "code",
   "execution_count": 193,
   "metadata": {},
   "outputs": [],
   "source": [
    "# Declare a sum_from function that accepts two numbers as arguments.\n",
    "# The second number will always be greater than the first number.\n",
    "# The function should return the sum of all numbers from the first number to the second number (inclusive).\n",
    "def sum_from(num1, num2):\n",
    "    total = 0\n",
    "    for i in range(num1, num2+1):\n",
    "        if num1 > num2:\n",
    "            return total\n",
    "            break\n",
    "            \n",
    "        total += i\n",
    "    return total\n",
    "            \n",
    "# EXAMPLES\n",
    "# sum_from(1, 2)   # 1 + 2                  => 3\n",
    "# sum_from(1, 5)   # 1 + 2 + 3 + 4 + 5      => 15\n",
    "# sum_from(3, 8)   # 3 + 4 + 5 + 6 + 7 + 8  => 33\n",
    "# sum_from(9, 12)  # 9 + 10 + 11 + 12       => 42"
   ]
  },
  {
   "cell_type": "code",
   "execution_count": 2,
   "metadata": {},
   "outputs": [],
   "source": [
    "# Declare a same_index_values function that accepts two lists.\n",
    "# The function should return a list of the index positions in which the two lists have equal elements\n",
    "def same_index_values(l1, l2):\n",
    "    position = []\n",
    "    for ele in range(len(l1)):\n",
    "        if l1[ele] != l2[ele]:\n",
    "            continue\n",
    "        position.append(ele)\n",
    "            \n",
    "    return position\n",
    "                \n",
    "            \n",
    "# EXAMPLES\n",
    "# same_index_values([1, 2, 3], [3, 2, 1])                         => [1]\n",
    "# same_index_values([\"a\", \"b\", \"c\", \"d\"], [\"c\", \"b\", \"a\", \"d\"])   => [1, 3]"
   ]
  },
  {
   "cell_type": "code",
   "execution_count": 3,
   "metadata": {},
   "outputs": [
    {
     "data": {
      "text/plain": [
       "[1, 3]"
      ]
     },
     "execution_count": 3,
     "metadata": {},
     "output_type": "execute_result"
    }
   ],
   "source": [
    "same_index_values([\"a\", \"b\", \"c\", \"d\"], [\"c\", \"b\", \"a\", \"d\"]) "
   ]
  },
  {
   "cell_type": "markdown",
   "metadata": {},
   "source": [
    "### List: Mutation"
   ]
  },
  {
   "cell_type": "code",
   "execution_count": 14,
   "metadata": {},
   "outputs": [],
   "source": [
    "# Given the great_directors list below, overwrite the “Steven Spielberg” string with a string of “Michael Bay”.\n",
    "great_directors = [\"Martin Scorsese\", \"Steven Spielberg\", \"Francis Ford Coppola\"]\n",
    "great_directors[1] = \"Michael Bay\"\n",
    "\n",
    "\n",
    "# Given the transformers list below, overwrite “Bumblebee” with “Grimlock”.\n",
    "transformers = [\"Optimus Prime\", \"Megatron\", \"Bumblebee\", \"Starscream\"]\n",
    "transformers[2] = \"Grimlock\"\n",
    "\n",
    "# Given the camping_trip_supplies list below, overwrite \"Socks\" with \"Food\".\n",
    "camping_trip_supplies = [\"Socks\", \"Flashlight\", \"Tent\", \"Blanket\"]\n",
    "camping_trip_supplies[0] = \"Food\"\n",
    "\n",
    "# Given the tech_companies list below, overwrite the Microsoft, Blueberry, and IBM strings \n",
    "# with the strings “Facebook” and “Apple”. Use list slicing syntax.\n",
    "tech_companies = [\"Google\", \"Microsoft\", \"Blackberry\", \"IBM\", \"Yahoo\"]\n",
    "tech_companies[1:4] = [\"Facebook\", \"Apple\"]"
   ]
  },
  {
   "cell_type": "code",
   "execution_count": 15,
   "metadata": {},
   "outputs": [],
   "source": [
    "# Define an only_evens function that accepts a list of numbers. \n",
    "# It should return a new list consisting of only the even numbers from the original list.\n",
    "def only_evens(numbers):\n",
    "    even = []\n",
    "    for number in numbers:\n",
    "        if number % 2 == 0:\n",
    "            even.append(number)\n",
    "    return even  \n",
    "        \n",
    "    \n",
    "    \n",
    "# EXAMPLES\n",
    "# only_evens([4, 8, 15, 16, 23, 42]) => [4, 8, 16, 42]\n",
    "# only_evens([1, 3, 5])              => []\n",
    "# only_evens([])                     => []\n"
   ]
  },
  {
   "cell_type": "code",
   "execution_count": 16,
   "metadata": {},
   "outputs": [
    {
     "name": "stdout",
     "output_type": "stream",
     "text": [
      "[4, 8, 16, 42]\n"
     ]
    }
   ],
   "source": [
    "print(only_evens([4, 8, 15, 16, 23, 42]))"
   ]
  },
  {
   "cell_type": "code",
   "execution_count": 17,
   "metadata": {},
   "outputs": [],
   "source": [
    "# Define a long_strings function that accepts a list of strings. \n",
    "# It should return a new list consisting of only the strings that have 5 characters or more.\n",
    "\n",
    "def long_strings(strings):\n",
    "    stringl = []\n",
    "    for string in strings:\n",
    "        if (len(string) >= 5):\n",
    "            stringl.append(string)\n",
    "    return stringl\n",
    "\n",
    "# EXAMPLES\n",
    "# long_strings([\"Hello\", \"Goodbye\", \"Sam\"])  => [\"Hello\", \"Goodbye\"]\n",
    "# long_strings([\"Ace\", \"Cat\", \"Job\"])        => []\n",
    "# long_strings([])                           => []\n"
   ]
  },
  {
   "cell_type": "code",
   "execution_count": 18,
   "metadata": {},
   "outputs": [
    {
     "name": "stdout",
     "output_type": "stream",
     "text": [
      "['Hello', 'Goodbye']\n"
     ]
    }
   ],
   "source": [
    "print(long_strings([\"Hello\", \"Goodbye\", \"Sam\"]))"
   ]
  },
  {
   "cell_type": "code",
   "execution_count": 50,
   "metadata": {},
   "outputs": [],
   "source": [
    "# Write a factors function that accepts a positive whole number\n",
    "# It should return a list of all of the number's factors in ascending order\n",
    "# HINT: Could the range function be helpful here? Or maybe a while loop?\n",
    "\n",
    "def factors(number):\n",
    "    factorl = []\n",
    "    for num in range(number+1):   \n",
    "        if num <= number and num!= 0 and number !=0 and number % num == 0:\n",
    "            factorl.append(num)\n",
    "    return factorl\n",
    "    \n",
    "\n",
    "# EXAMPLES\n",
    "# factors(1)  => [1]\n",
    "# factors(2)  => [1, 2]\n",
    "# factors(10) => [1, 2, 5, 10]\n",
    "# factors(64) => [1, 2, 4, 8, 16, 32, 64]"
   ]
  },
  {
   "cell_type": "code",
   "execution_count": 51,
   "metadata": {},
   "outputs": [
    {
     "name": "stdout",
     "output_type": "stream",
     "text": [
      "[1, 2, 4, 8, 16, 32, 64]\n"
     ]
    }
   ],
   "source": [
    "print(factors(64))"
   ]
  },
  {
   "cell_type": "code",
   "execution_count": 82,
   "metadata": {},
   "outputs": [],
   "source": [
    "# Declare a delete_all function that accepts a list of strings and a target string\n",
    "# Remove all occurrences of the target string from the list and return it\n",
    "\n",
    "def delete_all(strings, string): \n",
    "    while string in strings:\n",
    "        strings.remove(string)\n",
    "    return strings\n",
    "        \n",
    "        \n",
    "# EXAMPLES\n",
    "# delete_all([1, 3, 5], 3)  => [1, 5]\n",
    "# delete_all([5, 3, 5], 5)  => [3]\n",
    "# delete_all([4, 4, 4], 4)  => []\n",
    "# delete_all([4, 4, 4], 6)  => [4, 4, 4]"
   ]
  },
  {
   "cell_type": "code",
   "execution_count": 83,
   "metadata": {},
   "outputs": [
    {
     "name": "stdout",
     "output_type": "stream",
     "text": [
      "[4, 4, 4]\n",
      "[3]\n",
      "[]\n"
     ]
    }
   ],
   "source": [
    "print(delete_all([4, 4, 4], 6))\n",
    "print(delete_all([5, 3, 5], 5))\n",
    "print(delete_all([4, 4, 4], 4))"
   ]
  },
  {
   "cell_type": "code",
   "execution_count": 59,
   "metadata": {},
   "outputs": [],
   "source": [
    "# Declare a push_or_pop function that accepts a list of numbers\n",
    "# Build up and return a new list by iterating over the list of numbers\n",
    "# If a number is greater than 5, add it to the end of the new list\n",
    "# If a number is less than or equal to 5, remove the last element added to the new list\n",
    "# Assume the order of numbers in the argument will never require removing from an empty list\n",
    "\n",
    "def push_or_pop(numbers):\n",
    "    new_numbers = []\n",
    "    for num in numbers:\n",
    "        if num > 5:\n",
    "            new_numbers.append(num)\n",
    "        if num <= 5:\n",
    "            new_numbers.pop()\n",
    "    return new_numbers\n",
    "            \n",
    "            \n",
    "# EXAMPLES\n",
    "# push_or_pop([10])            => [10]\n",
    "# push_or_pop([10, 4])         => []\n",
    "# push_or_pop([10, 20, 30])    => [10, 20, 30]\n",
    "# push_or_pop([10, 20, 2, 30]) => [10, 30]"
   ]
  },
  {
   "cell_type": "code",
   "execution_count": 61,
   "metadata": {},
   "outputs": [
    {
     "name": "stdout",
     "output_type": "stream",
     "text": [
      "[10, 30]\n"
     ]
    }
   ],
   "source": [
    "print(push_or_pop([10, 20, 2, 30]))"
   ]
  },
  {
   "cell_type": "code",
   "execution_count": 84,
   "metadata": {},
   "outputs": [],
   "source": [
    "numbers = [1, 4, 5, 7, 9]\n",
    "numbers[1:3] = [6, 8]\n"
   ]
  },
  {
   "cell_type": "code",
   "execution_count": 86,
   "metadata": {},
   "outputs": [
    {
     "name": "stdout",
     "output_type": "stream",
     "text": [
      "[1, 6, 8, 7, 9]\n"
     ]
    }
   ],
   "source": [
    "print(numbers)"
   ]
  },
  {
   "cell_type": "markdown",
   "metadata": {},
   "source": [
    "### List: Methods"
   ]
  },
  {
   "cell_type": "code",
   "execution_count": 165,
   "metadata": {},
   "outputs": [],
   "source": [
    "# Define an encrypt_message function that accepts a string.\n",
    "# The input string will consist of only alphabetic characters.\n",
    "# The function should return a string where all characters have been moved\n",
    "# \"up\" two spots in the alphabet. For example, \"a\" will become \"c\".\n",
    "\n",
    "def encrypt_message(strings):\n",
    "    decrypted = \"\"\n",
    "    alphabet = \"abcdefghijklmnopqrstuvwxyz\"\n",
    "    \n",
    "    for letter in strings:\n",
    "        encrypted = (alphabet.index(letter) + 2) % 26 \n",
    "        decrypted += alphabet[encrypted]\n",
    "    return decrypted     \n",
    "    \n",
    "# EXAMPLES\n",
    "# encrypt_message(\"abc\") => \"cde\"\n",
    "# encrypt_message(\"xyz\") => \"zab\"\n",
    "# encrypt_message(\"\")    => \"\""
   ]
  },
  {
   "cell_type": "code",
   "execution_count": 166,
   "metadata": {},
   "outputs": [
    {
     "data": {
      "text/plain": [
       "'cde'"
      ]
     },
     "execution_count": 166,
     "metadata": {},
     "output_type": "execute_result"
    }
   ],
   "source": [
    "encrypt_message(\"abc\")"
   ]
  },
  {
   "cell_type": "code",
   "execution_count": 5,
   "metadata": {},
   "outputs": [],
   "source": [
    "# Define a word_lengths function that accepts a string. \n",
    "# It should return a list with the lengths of each word.\n",
    "\n",
    "def word_lengths(my_string):\n",
    "    new_list = my_string.split(\" \")   \n",
    "    return [len(word) for word in new_list]\n",
    "\n",
    "# EXAMPLES\n",
    "# word_lengths(\"Mary Poppins was a nanny\")  => [4, 7, 3, 1, 5]\n",
    "# word_lengths(\"Somebody stole my donut\")   => [8, 5, 2, 5]"
   ]
  },
  {
   "cell_type": "code",
   "execution_count": 7,
   "metadata": {},
   "outputs": [
    {
     "name": "stdout",
     "output_type": "stream",
     "text": [
      "[4, 7, 3, 1, 5]\n",
      "[8, 5, 2, 5]\n"
     ]
    }
   ],
   "source": [
    "print(word_lengths(\"Mary Poppins was a nanny\"))\n",
    "print(word_lengths(\"Somebody stole my donut\"))"
   ]
  },
  {
   "cell_type": "code",
   "execution_count": 87,
   "metadata": {},
   "outputs": [],
   "source": [
    "# Define a cleanup function that accepts a list of strings.\n",
    "# The function should return the strings joined together by a space.\n",
    "# There's one BIG problem -- some of the strings are empty or only consist of spaces!\n",
    "# These should NOT be included in the final string\n",
    "\n",
    "def cleanup(stringsl):\n",
    "    valid_strings = []\n",
    "    for word in stringsl:\n",
    "        \n",
    "        if word.isspace() or len(word) == 0:\n",
    "            continue\n",
    "        valid_strings.append(word)\n",
    "    new_strings = \" \".join(valid_strings)\n",
    "            \n",
    "    return new_strings\n",
    "    \n",
    "\n",
    "# cleanup([\"cat\", \"er\", \"pillar\"])           => \"cat er pillar\"\n",
    "# cleanup([\"cat\", \" \", \"er\", \"\", \"pillar\"])  => \"cat er pillar\"\n",
    "# cleanup([\"\", \"\", \" \"])                     => \"\""
   ]
  },
  {
   "cell_type": "code",
   "execution_count": 88,
   "metadata": {},
   "outputs": [
    {
     "name": "stdout",
     "output_type": "stream",
     "text": [
      "cat er pillar\n"
     ]
    }
   ],
   "source": [
    "print(cleanup([\"cat\", \" \", \"er\", \"\", \"pillar\"]))"
   ]
  },
  {
   "cell_type": "code",
   "execution_count": 3,
   "metadata": {},
   "outputs": [
    {
     "name": "stdout",
     "output_type": "stream",
     "text": [
      "The menu is ('Rice water', 'Banku', 'Chips')\n",
      "The menu is ('Oat', 'Rice', 'Noodles')\n",
      "The menu is ('Tea', 'Yam', 'Plaintain')\n"
     ]
    }
   ],
   "source": [
    "# Zip() function\n",
    "\n",
    "breakfasts = [\"Rice water\", \"Oat\", \"Tea\"]\n",
    "lunchs = [\"Banku\", \"Rice\", \"Yam\"]\n",
    "dinners = [\"Chips\", \"Noodles\", \"Plaintain\"]\n",
    "\n",
    "for breakfast, lunch, dinner in zip(breakfasts, lunchs, dinners):\n",
    "    print(f\"The menu is {breakfast, lunch, dinner}\")\n"
   ]
  },
  {
   "cell_type": "code",
   "execution_count": 10,
   "metadata": {},
   "outputs": [
    {
     "name": "stdout",
     "output_type": "stream",
     "text": [
      "[['Rice water', 'Oat', 'Tea'], ['Banku', 'Rice', 'Yam'], ['Chips', 'Noodles', 'Plaintain']]\n",
      "Rice water\n",
      "Oat\n",
      "Tea\n",
      "Banku\n",
      "Rice\n",
      "Yam\n",
      "Chips\n",
      "Noodles\n",
      "Plaintain\n"
     ]
    }
   ],
   "source": [
    "meals = [\n",
    "    [\"Rice water\", \"Oat\", \"Tea\"],\n",
    "    [\"Banku\", \"Rice\", \"Yam\"],\n",
    "    [\"Chips\", \"Noodles\", \"Plaintain\"]\n",
    "\n",
    "]\n",
    "\n",
    "print(meals)\n",
    "\n",
    "for meal_pack in meals:\n",
    "    for meal in meal_pack:\n",
    "        print(meal)"
   ]
  },
  {
   "cell_type": "code",
   "execution_count": 11,
   "metadata": {},
   "outputs": [
    {
     "data": {
      "text/plain": [
       "str"
      ]
     },
     "execution_count": 11,
     "metadata": {},
     "output_type": "execute_result"
    }
   ],
   "source": [
    "type(meal)"
   ]
  },
  {
   "cell_type": "code",
   "execution_count": 12,
   "metadata": {},
   "outputs": [
    {
     "data": {
      "text/plain": [
       "['Rice water',\n",
       " 'Oat',\n",
       " 'Tea',\n",
       " 'Banku',\n",
       " 'Rice',\n",
       " 'Yam',\n",
       " 'Chips',\n",
       " 'Noodles',\n",
       " 'Plaintain']"
      ]
     },
     "execution_count": 12,
     "metadata": {},
     "output_type": "execute_result"
    }
   ],
   "source": [
    "[meal for meal_pack in meals for meal in meal_pack]"
   ]
  },
  {
   "cell_type": "code",
   "execution_count": 18,
   "metadata": {},
   "outputs": [],
   "source": [
    "# Define a nested_sum function that accepts a list of lists of numbers\n",
    "# The function should return the sum of the values\n",
    "# The list may contain empty lists\n",
    "\n",
    "def nested_sum(numbers):\n",
    "    total = 0\n",
    "    for number in numbers:\n",
    "        for value in number:\n",
    "            total += value\n",
    "    return total\n",
    "    \n",
    "\n",
    "# EXAMPLES\n",
    "# nested_sum([[1, 2, 3], [4, 5]])            => 15\n",
    "# nested_sum([[1, 2, 3], [], [], [4], [5]])  => 15\n",
    "# nested_sum([[]])                           => 0"
   ]
  },
  {
   "cell_type": "code",
   "execution_count": 20,
   "metadata": {},
   "outputs": [
    {
     "name": "stdout",
     "output_type": "stream",
     "text": [
      "15\n",
      "0\n"
     ]
    }
   ],
   "source": [
    "print(nested_sum([[1, 2, 3], [4, 5]]))\n",
    "print(nested_sum([[]]) )"
   ]
  },
  {
   "cell_type": "code",
   "execution_count": 39,
   "metadata": {},
   "outputs": [],
   "source": [
    "# Define a fancy_concatenate function that accepts a list of lists of strings\n",
    "# The function should return a concatenated string\n",
    "# The strings in a list should only be concatenated if the length of the list is 3\n",
    "\n",
    "def fancy_concatenate(strings):\n",
    "    concatenate = \"\"\n",
    "    for string in strings:\n",
    "        for word in string:\n",
    "            if len(string) == 3:\n",
    "                concatenate += word\n",
    "    \n",
    "    return concatenate\n",
    "\n",
    "\n",
    "# EXAMPLES\n",
    "# fancy_concatenate([[\"A\", \"B\", \"C\"]])                        => \"ABC\"\n",
    "# fancy_concatenate([[\"A\", \"B\", \"C\"], [\"D\", \"E\", \"F\"]])       => \"ABCDEF\"\n",
    "# fancy_concatenate([[\"A\", \"B\", \"C\"], [\"D\", \"E\", \"F\", \"G\"]])  => \"ABC\"\n",
    "# fancy_concatenate([[\"A\", \"B\", \"C\"], [\"D\", \"E\"]])            => \"ABC\"\n",
    "# fancy_concatenate([[\"A\", \"B\"], [\"C\", \"D\"]])                 => \"\""
   ]
  },
  {
   "cell_type": "code",
   "execution_count": 40,
   "metadata": {},
   "outputs": [
    {
     "name": "stdout",
     "output_type": "stream",
     "text": [
      "ABC\n"
     ]
    }
   ],
   "source": [
    "print(fancy_concatenate([[\"A\", \"B\", \"C\"]]) )"
   ]
  },
  {
   "cell_type": "markdown",
   "metadata": {},
   "source": [
    "### List comprehension"
   ]
  },
  {
   "cell_type": "code",
   "execution_count": 65,
   "metadata": {},
   "outputs": [
    {
     "name": "stdout",
     "output_type": "stream",
     "text": [
      "[3.14, 9.99, 567.324, 5.678]\n",
      "['BBB', 'ooo', 'rrr', 'iii', 'sss']\n",
      "[8, 6, 7, 5, 6]\n"
     ]
    }
   ],
   "source": [
    "# Uncomment the commented lines of code below and complete the list comprehension logic\n",
    "\n",
    "# The floats variable should store the floating point values \n",
    "# for each string in the values list.\n",
    "values = [\"3.14\", \"9.99\", \"567.324\", \"5.678\"]\n",
    "floats = [float(value) for value in values]\n",
    "\n",
    "# The letters variable should store a list of 5 strings. \n",
    "# Each of the strings should be a character from name concatenated together 3 times.\n",
    "# i.e. ['BBB', 'ooo', 'rrr', 'iii', 'sss']\n",
    "name = \"Boris\"\n",
    "letters = [char*3 for char in name]\n",
    "\n",
    "# The 'lengths' list should store a list with the lengths\n",
    "# of each string in the 'elements' list\n",
    "elements = [\"Hydrogen\", \"Helium\", \"Lithium\", \"Boron\", \"Carbon\"]\n",
    "lengths = [len(element) for element in elements]\n",
    "\n",
    "\n",
    "print(floats)\n",
    "print(letters)\n",
    "print(lengths)"
   ]
  },
  {
   "cell_type": "code",
   "execution_count": 94,
   "metadata": {},
   "outputs": [
    {
     "name": "stdout",
     "output_type": "stream",
     "text": [
      "[3]\n",
      "[]\n",
      "[1, 2, 3]\n"
     ]
    }
   ],
   "source": [
    "# Declare a destroy_elements function that accepts two lists.\n",
    "# It should return a list of all elements from the first list that are NOT contained in the second list.\n",
    "# Use list comprehension in your solution.\n",
    "\n",
    "def destroy_elements(l1, l2):\n",
    "    return [ele for ele in l1 if ele not in l2]\n",
    "\n",
    "# EXAMPLES\n",
    "# destroy_elements([1, 2, 3], [1, 2])      => [3]\n",
    "# destroy_elements([1, 2, 3], [1, 2, 3])   => []\n",
    "# destroy_elements([1, 2, 3], [4, 5])      => [1, 2, 3]\n",
    "print(destroy_elements([1, 2, 3], [1, 2]))\n",
    "print(destroy_elements([1, 2, 3], [1, 2, 3]))\n",
    "print(destroy_elements([1, 2, 3], [4, 5]))"
   ]
  },
  {
   "cell_type": "markdown",
   "metadata": {},
   "source": [
    "## Built-in functions"
   ]
  },
  {
   "cell_type": "markdown",
   "metadata": {},
   "source": [
    "### map, filter, lambda "
   ]
  },
  {
   "cell_type": "code",
   "execution_count": 100,
   "metadata": {
    "scrolled": true
   },
   "outputs": [
    {
     "name": "stdout",
     "output_type": "stream",
     "text": [
      "Help on class map in module builtins:\n",
      "\n",
      "class map(object)\n",
      " |  map(func, *iterables) --> map object\n",
      " |  \n",
      " |  Make an iterator that computes the function using arguments from\n",
      " |  each of the iterables.  Stops when the shortest iterable is exhausted.\n",
      " |  \n",
      " |  Methods defined here:\n",
      " |  \n",
      " |  __getattribute__(self, name, /)\n",
      " |      Return getattr(self, name).\n",
      " |  \n",
      " |  __iter__(self, /)\n",
      " |      Implement iter(self).\n",
      " |  \n",
      " |  __next__(self, /)\n",
      " |      Implement next(self).\n",
      " |  \n",
      " |  __reduce__(...)\n",
      " |      Return state information for pickling.\n",
      " |  \n",
      " |  ----------------------------------------------------------------------\n",
      " |  Static methods defined here:\n",
      " |  \n",
      " |  __new__(*args, **kwargs) from builtins.type\n",
      " |      Create and return a new object.  See help(type) for accurate signature.\n",
      "\n",
      "None\n"
     ]
    }
   ],
   "source": [
    "print(help(map))"
   ]
  },
  {
   "cell_type": "code",
   "execution_count": 107,
   "metadata": {},
   "outputs": [],
   "source": [
    "# Declare a right_words function that accepts a list of words and a number.\n",
    "# Return a new list with the words that have a length equal to the number.\n",
    "# Do NOT use list comprehension.\n",
    "\n",
    "def right_words(words, number):\n",
    "    return list(filter(lambda word: len(word) == number, words))\n",
    "    \n",
    "# EXAMPLES:\n",
    "# right_words(['cat', 'dog', 'bean', 'ace', 'heart'], 3)     => ['cat', 'dog', 'ace']\n",
    "# right_words(['cat', 'dog', 'bean', 'ace', 'heart'], 5)     => ['heart']\n",
    "# right_words([], 4)                                         => []"
   ]
  },
  {
   "cell_type": "code",
   "execution_count": 108,
   "metadata": {},
   "outputs": [
    {
     "name": "stdout",
     "output_type": "stream",
     "text": [
      "['cat', 'dog', 'ace']\n",
      "['heart']\n",
      "[]\n"
     ]
    }
   ],
   "source": [
    "print(right_words(['cat', 'dog', 'bean', 'ace', 'heart'], 3))\n",
    "print(right_words(['cat', 'dog', 'bean', 'ace', 'heart'], 5))\n",
    "print(right_words([], 4)  )"
   ]
  },
  {
   "cell_type": "code",
   "execution_count": 115,
   "metadata": {},
   "outputs": [],
   "source": [
    "# Declare an only_odds function.\n",
    "# It should accept a list of whole numbers.\n",
    "# It should return a list with only the odd numbers from the original list.\n",
    "# Do NOT use list comprehension.\n",
    "\n",
    "def only_odds(whole_numbers):\n",
    "    return list((filter(lambda ele: ele % 2 != 0, whole_numbers)))\n",
    "\n",
    "# EXAMPLES:\n",
    "# only_odds([1, 3, 5, 6, 7, 8])      =>  [1, 3, 5, 7]\n",
    "# only_odds([2, 4, 6, 8])            =>  []"
   ]
  },
  {
   "cell_type": "code",
   "execution_count": 116,
   "metadata": {},
   "outputs": [
    {
     "name": "stdout",
     "output_type": "stream",
     "text": [
      "[1, 3, 5, 7]\n",
      "[]\n"
     ]
    }
   ],
   "source": [
    "print(only_odds([1, 3, 5, 6, 7, 8]))\n",
    "print(only_odds([2, 4, 6, 8]))\n"
   ]
  },
  {
   "cell_type": "code",
   "execution_count": 117,
   "metadata": {},
   "outputs": [],
   "source": [
    "# Declare a count_of_a function that accepts a list of strings.\n",
    "# It should return a list with counts of how many “a” characters appear per string.\n",
    "# Do NOT use list comprehension.\n",
    "def count_of_a(strings):\n",
    "    return list(map(lambda char: char.count(\"a\"), strings))\n",
    "# EXAMPLES:\n",
    "# count_of_a([\"alligator\", \"aardvark\", \"albatross\"])    => [2, 3, 2]\n",
    "# count_of_a([\"plywood\"])                               => [0]\n",
    "# count_of_a([])                                        => []"
   ]
  },
  {
   "cell_type": "code",
   "execution_count": 118,
   "metadata": {},
   "outputs": [
    {
     "name": "stdout",
     "output_type": "stream",
     "text": [
      "[2, 3, 2]\n",
      "[0]\n",
      "[]\n"
     ]
    }
   ],
   "source": [
    "print(count_of_a([\"alligator\", \"aardvark\", \"albatross\"]))\n",
    "print(count_of_a([\"plywood\"]))\n",
    "print(count_of_a([]))"
   ]
  },
  {
   "cell_type": "code",
   "execution_count": null,
   "metadata": {},
   "outputs": [],
   "source": []
  }
 ],
 "metadata": {
  "kernelspec": {
   "display_name": "Python 3",
   "language": "python",
   "name": "python3"
  },
  "language_info": {
   "codemirror_mode": {
    "name": "ipython",
    "version": 3
   },
   "file_extension": ".py",
   "mimetype": "text/x-python",
   "name": "python",
   "nbconvert_exporter": "python",
   "pygments_lexer": "ipython3",
   "version": "3.7.3"
  }
 },
 "nbformat": 4,
 "nbformat_minor": 2
}
