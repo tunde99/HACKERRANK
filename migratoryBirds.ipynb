{
 "cells": [
  {
   "cell_type": "code",
   "execution_count": 51,
   "metadata": {},
   "outputs": [
    {
     "name": "stdout",
     "output_type": "stream",
     "text": [
      "{1: 1, 4: 3, 5: 1, 3: 1}\n",
      "keys: [1, 4, 5, 3]\n",
      "values: [1, 3, 1, 1]\n"
     ]
    },
    {
     "data": {
      "text/plain": [
       "4"
      ]
     },
     "execution_count": 51,
     "metadata": {},
     "output_type": "execute_result"
    }
   ],
   "source": [
    "import numpy as np\n",
    "def count_char(ar):\n",
    "    keyList = []\n",
    "    keyValues = []\n",
    "    dic = {i:ar.count(i) for i in ar}\n",
    "    print(dic)\n",
    "    for j, k in dic.items():\n",
    "        keyList.append(j)\n",
    "        keyValues.append(k)\n",
    "    print('keys:', keyList)\n",
    "    print('values:', keyValues)\n",
    "   \n",
    "    \n",
    "    #print('maxVal:', keyList[keyValues.index(max(keyValues))])\n",
    "    c = np.argmax(keyValues)\n",
    "    #print(max(dic.values()))\n",
    "        \n",
    "    #return keyList[keyValues.index(max(keyValues))]\n",
    "    return keyList[c]\n",
    "        \n",
    "count_char([1, 4, 4, 4, 5, 3])\n",
    "#count_char([1, 2, 3, 4, 5, 4, 3, 2, 1, 3, 4])"
   ]
  },
  {
   "cell_type": "code",
   "execution_count": null,
   "metadata": {},
   "outputs": [],
   "source": []
  }
 ],
 "metadata": {
  "kernelspec": {
   "display_name": "Python 3",
   "language": "python",
   "name": "python3"
  },
  "language_info": {
   "codemirror_mode": {
    "name": "ipython",
    "version": 3
   },
   "file_extension": ".py",
   "mimetype": "text/x-python",
   "name": "python",
   "nbconvert_exporter": "python",
   "pygments_lexer": "ipython3",
   "version": "3.7.3"
  }
 },
 "nbformat": 4,
 "nbformat_minor": 2
}
