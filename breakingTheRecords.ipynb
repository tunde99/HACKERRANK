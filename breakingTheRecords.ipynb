{
 "cells": [
  {
   "cell_type": "code",
   "execution_count": 4,
   "metadata": {},
   "outputs": [
    {
     "name": "stdout",
     "output_type": "stream",
     "text": [
      "highest: [20, 25]\n",
      "lowest: [5, 4, 2, 1]\n",
      "best: 2\n",
      "worst: 4\n"
     ]
    }
   ],
   "source": [
    "'''\n",
    "Maria plays college basketball and wants to go pro. Each season she maintains a record of her play. She tabulates the number of times she breaks her season record for most points and least points in a game. Points scored in the first game establish her record for the season, and she begins counting from there.\n",
    "\n",
    "For example, assume her scores for the season are represented in the array, scores = [12, 24, 10, 24] . Scores are in the same order as the games played. Given Maria's scores for a season, find and print the number of times she breaks her records for most and least points scored during the season.\n",
    "Print two space-seperated integers describing the respective numbers of times her best (highest) score increased and her worst (lowest) score decreased.\n",
    "'''\n",
    "\n",
    "import numpy as np\n",
    "def breakingRecords(scores):\n",
    "    n = len(scores)\n",
    "    high, low = [], []\n",
    "    best, worst = 0, 0\n",
    "    highest, lowest = scores[0], scores[0] # the initial scores\n",
    "    \n",
    "    for i in range(1,n): # start from 2nd element of scores array\n",
    "                \n",
    "        if scores[i] < lowest:\n",
    "            low.append(scores[i])\n",
    "            lowest = scores[i] # new value of lowest score\n",
    "            worst += 1 # increase number of times a new lowest is obtained\n",
    "            \n",
    "        if scores[i] > highest:\n",
    "            high.append(scores[i])\n",
    "            highest = scores[i] # new value of highest score\n",
    "            best += 1 # increase number of times a new lowest is obtained        \n",
    "        \n",
    "    print(\"highest scores: \" + str(high))\n",
    "    print(\"lowest scores: \" + str(low))\n",
    "    print(\"nu: \" + str(best))\n",
    "    print(\"worst: \" + str(worst)) \n",
    "scores = np.array([10, 5, 20, 20, 4, 5, 2, 25, 1])\n",
    "breakingRecords(scores)"
   ]
  }
 ],
 "metadata": {
  "kernelspec": {
   "display_name": "Python 3",
   "language": "python",
   "name": "python3"
  },
  "language_info": {
   "codemirror_mode": {
    "name": "ipython",
    "version": 3
   },
   "file_extension": ".py",
   "mimetype": "text/x-python",
   "name": "python",
   "nbconvert_exporter": "python",
   "pygments_lexer": "ipython3",
   "version": "3.7.3"
  }
 },
 "nbformat": 4,
 "nbformat_minor": 2
}
