{
 "cells": [
  {
   "cell_type": "code",
   "execution_count": 1,
   "metadata": {},
   "outputs": [
    {
     "data": {
      "text/plain": [
       "[120, 60, 40, 30, 24]"
      ]
     },
     "execution_count": 1,
     "metadata": {},
     "output_type": "execute_result"
    }
   ],
   "source": [
    "'''\n",
    "\n",
    "Given an array of integers, return a new array such that each element at index i of the new array is the product of all the numbers in the original array except the one at i.\n",
    "\n",
    "For example, if our input was [1, 2, 3, 4, 5], the expected output would be [120, 60, 40, 30, 24]. If our input was [3, 2, 1], the expected output would be [2, 3, 6].\n",
    "\n",
    "Follow-up: what if you can't use division?\n",
    "\n",
    "'''\n",
    "import numpy as np\n",
    "\n",
    "def arrayProduct(arr1):\n",
    "    arr3 = []\n",
    "    for i in range(len(arr1)):\n",
    "        arr2 = arr1.copy() # make a copy of given array\n",
    "        arr2 = np.delete(arr2, i) # remove the ith element \n",
    "        #print(arr2)\n",
    "        result = np.prod(arr2) # multiply elements of new array\n",
    "        arr3.append(result) # add product to new array, arr3\n",
    "    return arr3\n",
    "\n",
    "arrayProduct([1, 2, 3, 4, 5])\n",
    "# # #arrayProduct([3, 2, 1])\n"
   ]
  },
  {
   "cell_type": "code",
   "execution_count": 2,
   "metadata": {},
   "outputs": [
    {
     "data": {
      "text/plain": [
       "[2, 3, 6]"
      ]
     },
     "execution_count": 2,
     "metadata": {},
     "output_type": "execute_result"
    }
   ],
   "source": [
    "'''\n",
    "Given an array of integers, return a new array such that each element at index i of the new array is the product of all the numbers in the original array except the one at i.\n",
    "\n",
    "For example, if our input was [1, 2, 3, 4, 5], the expected output would be [120, 60, 40, 30, 24]. If our input was [3, 2, 1], the expected output would be [2, 3, 6].\n",
    "\n",
    "Follow-up: what if you can't use division?\n",
    "'''\n",
    "\n",
    "import numpy as np\n",
    "\n",
    "# product function\n",
    "def array_product(myArray):\n",
    "    product = 1\n",
    "    for j in myArray:\n",
    "        product = product * j # multiply elements of new array\n",
    "    return product\n",
    "\n",
    "# main task\n",
    "def arrayProduct(arr1):\n",
    "    new_array = [] \n",
    "    for i in range(len(arr1)):\n",
    "        arr2 = arr1.copy() # make a copy of given array\n",
    "        arr2 = np.delete(arr2, i) # remove the ith element      \n",
    "        result1 = array_product(arr2) # add product to new array, arr3\n",
    "        new_array.append(result1)\n",
    "    return new_array\n",
    "#arrayProduct([1, 2, 3, 4, 5])\n",
    "arrayProduct([3, 2, 1])\n"
   ]
  }
 ],
 "metadata": {
  "kernelspec": {
   "display_name": "Python 3",
   "language": "python",
   "name": "python3"
  },
  "language_info": {
   "codemirror_mode": {
    "name": "ipython",
    "version": 3
   },
   "file_extension": ".py",
   "mimetype": "text/x-python",
   "name": "python",
   "nbconvert_exporter": "python",
   "pygments_lexer": "ipython3",
   "version": "3.7.3"
  }
 },
 "nbformat": 4,
 "nbformat_minor": 2
}
