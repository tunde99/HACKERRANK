{
 "cells": [
  {
   "cell_type": "code",
   "execution_count": 6,
   "metadata": {},
   "outputs": [],
   "source": [
    "'''\n",
    "Compares two arrays\n",
    "Awards 1 to a if its value is greater than b\n",
    "Awards 1 to b if its value is greater than a\n",
    "Awards no point to any if their values are same.\n",
    "'''\n",
    "def compareTriplets(a, b):\n",
    "    alice = 0\n",
    "    bob = 0\n",
    "    result = [ ]\n",
    "    for i in range(len(a)):\n",
    "        if a[i] > b[i]:\n",
    "            alice += 1\n",
    "        if a[i] < b[i]:\n",
    "            bob += 1  \n",
    "    return (alice,bob)\n"
   ]
  },
  {
   "cell_type": "code",
   "execution_count": 5,
   "metadata": {},
   "outputs": [],
   "source": [
    "a = [5, 6, 7]\n",
    "b = [3, 6, 10]"
   ]
  },
  {
   "cell_type": "code",
   "execution_count": 7,
   "metadata": {},
   "outputs": [
    {
     "data": {
      "text/plain": [
       "(1, 1)"
      ]
     },
     "execution_count": 7,
     "metadata": {},
     "output_type": "execute_result"
    }
   ],
   "source": [
    "compareTriplets(a,b)"
   ]
  }
 ],
 "metadata": {
  "kernelspec": {
   "display_name": "Python 3",
   "language": "python",
   "name": "python3"
  },
  "language_info": {
   "codemirror_mode": {
    "name": "ipython",
    "version": 3
   },
   "file_extension": ".py",
   "mimetype": "text/x-python",
   "name": "python",
   "nbconvert_exporter": "python",
   "pygments_lexer": "ipython3",
   "version": "3.7.3"
  }
 },
 "nbformat": 4,
 "nbformat_minor": 2
}
