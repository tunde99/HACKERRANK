{
 "cells": [
  {
   "cell_type": "code",
   "execution_count": 1,
   "metadata": {},
   "outputs": [],
   "source": [
    "'''\n",
    "Given an array of integers, calculate the fractions of its elements that are positive, negative, and are zeros. Print the decimal value of each fraction on a new line.\n",
    "\n",
    "Note: This challenge introduces precision problems. The test cases are scaled to six decimal places, though answers with absolute error of up to  are acceptable.\n",
    "'''\n",
    "\n",
    "def plusMinus(arr):\n",
    "    positives = 0\n",
    "    negatives = 0\n",
    "    zeros = 0\n",
    "       \n",
    "    for i in range(len(arr)):\n",
    "        \n",
    "        if arr[i] > 0:\n",
    "            positives += 1\n",
    "         \n",
    "        if arr[i] < 0:\n",
    "            negatives += 1\n",
    "  \n",
    "        if arr[i] == 0:\n",
    "            zeros += 1\n",
    "    \n",
    "    fraction_positive = positives/len(arr)\n",
    "    fraction_negative = negatives/len(arr)\n",
    "    fraction_zero= zeros/len(arr)\n",
    "    \n",
    "    print(\"{0:10.6f}\" .format(fraction_positive))\n",
    "    print(\"{0:10.6f}\" .format(fraction_negative))\n",
    "    print(\"{0:10.6f}\" .format(fraction_zero))"
   ]
  },
  {
   "cell_type": "code",
   "execution_count": 2,
   "metadata": {},
   "outputs": [],
   "source": [
    "arr = [-4, 3, -9, 0, 4, 1] "
   ]
  },
  {
   "cell_type": "code",
   "execution_count": 3,
   "metadata": {},
   "outputs": [
    {
     "name": "stdout",
     "output_type": "stream",
     "text": [
      "  0.500000\n",
      "  0.333333\n",
      "  0.166667\n"
     ]
    }
   ],
   "source": [
    "plusMinus(arr)"
   ]
  }
 ],
 "metadata": {
  "kernelspec": {
   "display_name": "Python 3",
   "language": "python",
   "name": "python3"
  },
  "language_info": {
   "codemirror_mode": {
    "name": "ipython",
    "version": 3
   },
   "file_extension": ".py",
   "mimetype": "text/x-python",
   "name": "python",
   "nbconvert_exporter": "python",
   "pygments_lexer": "ipython3",
   "version": "3.7.3"
  }
 },
 "nbformat": 4,
 "nbformat_minor": 2
}
