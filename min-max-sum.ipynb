{
 "cells": [
  {
   "cell_type": "code",
   "execution_count": 2,
   "metadata": {},
   "outputs": [
    {
     "name": "stdout",
     "output_type": "stream",
     "text": [
      "299 9271\n"
     ]
    }
   ],
   "source": [
    "'''\n",
    "Given five positive integers, find the minimum and maximum values that can be calculated \n",
    "by summing exactly four of the five integers. Then print the respective minimum and \n",
    "maximum values as a single line of two space-separated long integers.\n",
    "'''\n",
    "def miniMaxSum(arr):\n",
    "    arr = sorted(arr) # sort array to arrange elements from the smallest to the largest\n",
    "    # initialise minimum and maximum sum\n",
    "    minSum = 0\n",
    "    maxSum = 0\n",
    "    n = len(arr)\n",
    "    \n",
    "    # sum together, from first element to element before last element\n",
    "    for i in range(0,n-1): \n",
    "        minSum += arr[i] # summing each elements specified\n",
    "    for j in range(1, n): # traversing from second element to last element\n",
    "        maxSum += arr[j] # summing the traversed elements \n",
    "    print(minSum, maxSum)  # print the sums, separated  by a single space\n",
    "miniMaxSum([7, 69, 2, 221, 8974]) # passing a sample array to the function"
   ]
  }
 ],
 "metadata": {
  "kernelspec": {
   "display_name": "Python 3",
   "language": "python",
   "name": "python3"
  },
  "language_info": {
   "codemirror_mode": {
    "name": "ipython",
    "version": 3
   },
   "file_extension": ".py",
   "mimetype": "text/x-python",
   "name": "python",
   "nbconvert_exporter": "python",
   "pygments_lexer": "ipython3",
   "version": "3.7.3"
  }
 },
 "nbformat": 4,
 "nbformat_minor": 2
}
