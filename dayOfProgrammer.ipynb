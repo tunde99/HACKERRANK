{
 "cells": [
  {
   "cell_type": "code",
   "execution_count": 8,
   "metadata": {},
   "outputs": [
    {
     "data": {
      "text/plain": [
       "'12.09.2016'"
      ]
     },
     "execution_count": 8,
     "metadata": {},
     "output_type": "execute_result"
    }
   ],
   "source": [
    "def dayOfProgrammer(year):\n",
    "    jan = 31\n",
    "    feb = 28\n",
    "    mar = 31\n",
    "    apr = 30\n",
    "    may = 31\n",
    "    jun = 30\n",
    "    jul = 31\n",
    "    aug = 31\n",
    "    \n",
    "    sum_days = jan + feb + mar + apr + may + jun + jul + aug \n",
    "        \n",
    "    # special case\n",
    "    if year == 1918:\n",
    "        day = str((256 - sum_days) + 13) + '.' + '09.' + str(year)\n",
    "    \n",
    "    # Julian calender  \n",
    "    if year in range(1700, 1918):\n",
    "        if year % 4 == 0: # leap year\n",
    "            sum_days += 1 # February in leap year\n",
    "            day = str(256 - sum_days) + '.' + '09.' + str(year)\n",
    "        else:\n",
    "            day = str(256 - sum_days) + '.' + '09.' + str(year)\n",
    "    \n",
    "    # Gregorian calender\n",
    "    if year in range(1919, 2701):\n",
    "        if (year % 400 == 0) or (year % 4 == 0 and year % 100 != 0): # leap year\n",
    "            sum_days += 1\n",
    "            day = str(256 - sum_days) + '.' + '09.' + str(year)\n",
    "        else:\n",
    "            day = str(256 - sum_days) + '.' + '09.' + str(year)\n",
    "    \n",
    "    return day \n",
    "dayOfProgrammer(2016)"
   ]
  }
 ],
 "metadata": {
  "kernelspec": {
   "display_name": "Python 3",
   "language": "python",
   "name": "python3"
  },
  "language_info": {
   "codemirror_mode": {
    "name": "ipython",
    "version": 3
   },
   "file_extension": ".py",
   "mimetype": "text/x-python",
   "name": "python",
   "nbconvert_exporter": "python",
   "pygments_lexer": "ipython3",
   "version": "3.7.3"
  }
 },
 "nbformat": 4,
 "nbformat_minor": 2
}
