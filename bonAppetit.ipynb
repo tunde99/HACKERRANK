{
 "cells": [
  {
   "cell_type": "code",
   "execution_count": 98,
   "metadata": {},
   "outputs": [
    {
     "name": "stdout",
     "output_type": "stream",
     "text": [
      "Bon Appetit\n"
     ]
    }
   ],
   "source": [
    "def bonAppetit(bill, k, b):\n",
    "    \n",
    "    bill_1 = bill.copy()\n",
    "    bill.pop(k)\n",
    "    anna_bill = bill    \n",
    "    b_actual = int(sum(anna_bill)/2)\n",
    "    overcharge = b - b_actual\n",
    "    if b == b_actual:\n",
    "        print ('Bon Appetit')\n",
    "    else:\n",
    "        print(overcharge)\n",
    "    \n",
    "#     print()\n",
    "#     print('total bill:', bill_1)\n",
    "#     print('Anna\\'s bill:', anna_bill)\n",
    "#     print(\"Each pay:\", b)\n",
    "#     print('Anna\\'s pay:', b_actual)\n",
    "   \n",
    "    \n",
    "bonAppetit([3, 10, 2, 9], 1, 7)    "
   ]
  }
 ],
 "metadata": {
  "kernelspec": {
   "display_name": "Python 3",
   "language": "python",
   "name": "python3"
  },
  "language_info": {
   "codemirror_mode": {
    "name": "ipython",
    "version": 3
   },
   "file_extension": ".py",
   "mimetype": "text/x-python",
   "name": "python",
   "nbconvert_exporter": "python",
   "pygments_lexer": "ipython3",
   "version": "3.7.3"
  }
 },
 "nbformat": 4,
 "nbformat_minor": 2
}
