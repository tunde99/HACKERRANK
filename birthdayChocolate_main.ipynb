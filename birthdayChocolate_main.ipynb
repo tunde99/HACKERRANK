{
 "cells": [
  {
   "cell_type": "code",
   "execution_count": 4,
   "metadata": {},
   "outputs": [
    {
     "data": {
      "text/plain": [
       "3"
      ]
     },
     "execution_count": 4,
     "metadata": {},
     "output_type": "execute_result"
    }
   ],
   "source": [
    "def birthday(s, d, m):\n",
    "    count = 0\n",
    "    for i in range(len(s)):\n",
    "        if sum(s[i: i + m]) == d:\n",
    "            count += 1\n",
    "    return count\n",
    "#birthday([1, 2, 1, 3, 2], 3, 2)\n",
    "#birthday([1, 1, 1, 1, 1], 3, 2)\n",
    "#birthday([2, 2, 1, 3, 2], 4, 2)\n",
    "#birthday([1, 1, 1, 1, 1, 1], 3, 2)\n",
    "#birthday([4], 4, 1)\n",
    "birthday([2, 5, 1, 3, 4, 4, 3, 5, 1, 1, 2, 1, 4, 1, 3, 3, 4, 2, 1], 18, 7)\n",
    "    "
   ]
  }
 ],
 "metadata": {
  "kernelspec": {
   "display_name": "Python 3",
   "language": "python",
   "name": "python3"
  },
  "language_info": {
   "codemirror_mode": {
    "name": "ipython",
    "version": 3
   },
   "file_extension": ".py",
   "mimetype": "text/x-python",
   "name": "python",
   "nbconvert_exporter": "python",
   "pygments_lexer": "ipython3",
   "version": "3.7.3"
  }
 },
 "nbformat": 4,
 "nbformat_minor": 2
}
